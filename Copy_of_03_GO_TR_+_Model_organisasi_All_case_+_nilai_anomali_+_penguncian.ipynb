{
 "cells": [
  {
   "cell_type": "code",
   "execution_count": 1,
   "metadata": {
    "colab": {
     "base_uri": "https://localhost:8080/",
     "height": 601
    },
    "id": "JZeKCjQvhMWc",
    "outputId": "373cdd55-dae0-4524-e490-5409e58e318c"
   },
   "outputs": [
    {
     "name": "stdout",
     "output_type": "stream",
     "text": [
      "Requirement already satisfied: matplotlib in c:\\users\\axell\\appdata\\local\\programs\\python\\python39\\lib\\site-packages (3.9.3)\n",
      "Requirement already satisfied: pandas in c:\\users\\axell\\appdata\\local\\programs\\python\\python39\\lib\\site-packages (2.2.3)\n",
      "Could not fetch URL https://pypi.org/simple/networkx/: There was a problem confirming the ssl certificate: HTTPSConnectionPool(host='pypi.org', port=443): Max retries exceeded with url: /simple/networkx/ (Caused by SSLError(SSLEOFError(8, 'EOF occurred in violation of protocol (_ssl.c:1122)'))) - skipping\n"
     ]
    },
    {
     "name": "stderr",
     "output_type": "stream",
     "text": [
      "WARNING: Retrying (Retry(total=4, connect=None, read=None, redirect=None, status=None)) after connection broken by 'SSLError(SSLEOFError(8, 'EOF occurred in violation of protocol (_ssl.c:1122)'))': /simple/networkx/\n",
      "WARNING: Retrying (Retry(total=3, connect=None, read=None, redirect=None, status=None)) after connection broken by 'SSLError(SSLEOFError(8, 'EOF occurred in violation of protocol (_ssl.c:1122)'))': /simple/networkx/\n",
      "WARNING: Retrying (Retry(total=2, connect=None, read=None, redirect=None, status=None)) after connection broken by 'SSLError(SSLEOFError(8, 'EOF occurred in violation of protocol (_ssl.c:1122)'))': /simple/networkx/\n",
      "WARNING: Retrying (Retry(total=1, connect=None, read=None, redirect=None, status=None)) after connection broken by 'SSLError(SSLEOFError(8, 'EOF occurred in violation of protocol (_ssl.c:1122)'))': /simple/networkx/\n",
      "WARNING: Retrying (Retry(total=0, connect=None, read=None, redirect=None, status=None)) after connection broken by 'SSLError(SSLEOFError(8, 'EOF occurred in violation of protocol (_ssl.c:1122)'))': /simple/networkx/\n",
      "ERROR: Could not find a version that satisfies the requirement networkx (from versions: none)\n",
      "ERROR: No matching distribution found for networkx\n",
      "WARNING: You are using pip version 20.2.3; however, version 24.3.1 is available.\n",
      "You should consider upgrading via the 'c:\\users\\axell\\appdata\\local\\programs\\python\\python39\\python.exe -m pip install --upgrade pip' command.\n"
     ]
    },
    {
     "data": {
      "application/json": {
       "Software versions": [
        {
         "module": "Python",
         "version": "3.10.11 64bit [MSC v.1929 64 bit (AMD64)]"
        },
        {
         "module": "IPython",
         "version": "8.14.0"
        },
        {
         "module": "OS",
         "version": "Windows 10 10.0.22631 SP0"
        },
        {
         "module": "py2neo",
         "version": "The 'py2neo' distribution was not found and is required by the application"
        }
       ]
      },
      "text/html": [
       "<table><tr><th>Software</th><th>Version</th></tr><tr><td>Python</td><td>3.10.11 64bit [MSC v.1929 64 bit (AMD64)]</td></tr><tr><td>IPython</td><td>8.14.0</td></tr><tr><td>OS</td><td>Windows 10 10.0.22631 SP0</td></tr><tr><td>py2neo</td><td>The 'py2neo' distribution was not found and is required by the application</td></tr><tr><td colspan='2'>Wed Dec 11 13:33:02 2024 SE Asia Standard Time</td></tr></table>"
      ],
      "text/latex": [
       "\\begin{tabular}{|l|l|}\\hline\n",
       "{\\bf Software} & {\\bf Version} \\\\ \\hline\\hline\n",
       "Python & 3.10.11 64bit [MSC v.1929 64 bit (AMD64)] \\\\ \\hline\n",
       "IPython & 8.14.0 \\\\ \\hline\n",
       "OS & Windows 10 10.0.22631 SP0 \\\\ \\hline\n",
       "py2neo & The 'py2neo' distribution was not found and is required by the application \\\\ \\hline\n",
       "\\hline \\multicolumn{2}{|l|}{Wed Dec 11 13:33:02 2024 SE Asia Standard Time} \\\\ \\hline\n",
       "\\end{tabular}\n"
      ],
      "text/plain": [
       "Software versions\n",
       "Python 3.10.11 64bit [MSC v.1929 64 bit (AMD64)]\n",
       "IPython 8.14.0\n",
       "OS Windows 10 10.0.22631 SP0\n",
       "py2neo The 'py2neo' distribution was not found and is required by the application\n",
       "Wed Dec 11 13:33:02 2024 SE Asia Standard Time"
      ]
     },
     "execution_count": 1,
     "metadata": {},
     "output_type": "execute_result"
    }
   ],
   "source": [
    "!pip install matplotlib pandas networkx version_information\n",
    "%load_ext version_information\n",
    "%version_information py2neo"
   ]
  },
  {
   "cell_type": "code",
   "execution_count": 2,
   "metadata": {
    "colab": {
     "base_uri": "https://localhost:8080/"
    },
    "id": "jKRp0jfUhaQ9",
    "outputId": "67e9a6ae-3e0b-432b-e390-516d52ee81c6"
   },
   "outputs": [
    {
     "name": "stdout",
     "output_type": "stream",
     "text": [
      "Could not fetch URL https://pypi.org/simple/pm4py/: There was a problem confirming the ssl certificate: HTTPSConnectionPool(host='pypi.org', port=443): Max retries exceeded with url: /simple/pm4py/ (Caused by SSLError(SSLEOFError(8, 'EOF occurred in violation of protocol (_ssl.c:1122)'))) - skipping\n"
     ]
    },
    {
     "name": "stderr",
     "output_type": "stream",
     "text": [
      "WARNING: Retrying (Retry(total=4, connect=None, read=None, redirect=None, status=None)) after connection broken by 'SSLError(SSLEOFError(8, 'EOF occurred in violation of protocol (_ssl.c:1122)'))': /simple/pm4py/\n",
      "WARNING: Retrying (Retry(total=3, connect=None, read=None, redirect=None, status=None)) after connection broken by 'SSLError(SSLEOFError(8, 'EOF occurred in violation of protocol (_ssl.c:1122)'))': /simple/pm4py/\n",
      "WARNING: Retrying (Retry(total=2, connect=None, read=None, redirect=None, status=None)) after connection broken by 'SSLError(SSLEOFError(8, 'EOF occurred in violation of protocol (_ssl.c:1122)'))': /simple/pm4py/\n",
      "WARNING: Retrying (Retry(total=1, connect=None, read=None, redirect=None, status=None)) after connection broken by 'SSLError(SSLEOFError(8, 'EOF occurred in violation of protocol (_ssl.c:1122)'))': /simple/pm4py/\n",
      "WARNING: Retrying (Retry(total=0, connect=None, read=None, redirect=None, status=None)) after connection broken by 'SSLError(SSLEOFError(8, 'EOF occurred in violation of protocol (_ssl.c:1122)'))': /simple/pm4py/\n",
      "ERROR: Could not find a version that satisfies the requirement pm4py (from versions: none)\n",
      "ERROR: No matching distribution found for pm4py\n",
      "WARNING: You are using pip version 20.2.3; however, version 24.3.1 is available.\n",
      "You should consider upgrading via the 'c:\\users\\axell\\appdata\\local\\programs\\python\\python39\\python.exe -m pip install --upgrade pip' command.\n"
     ]
    }
   ],
   "source": [
    "!pip install pm4py"
   ]
  },
  {
   "cell_type": "code",
   "execution_count": 3,
   "metadata": {
    "id": "GnOOOiIDiXIz"
   },
   "outputs": [],
   "source": [
    "# import os\n",
    "# os.chdir('/content/drive/MyDrive/share_rpi_2024/2024_multiperspective')"
   ]
  },
  {
   "cell_type": "code",
   "execution_count": 4,
   "metadata": {
    "colab": {
     "base_uri": "https://localhost:8080/",
     "height": 35
    },
    "id": "XHEwSSsZjQA9",
    "outputId": "a4eca583-8d2d-4d02-abaf-37ece7920aea"
   },
   "outputs": [],
   "source": [
    "# os.getcwd()"
   ]
  },
  {
   "cell_type": "code",
   "execution_count": 5,
   "metadata": {
    "id": "RQPQy5iFhMWd"
   },
   "outputs": [],
   "source": [
    "import pandas as pd\n",
    "import pm4py\n",
    "from datetime import datetime, timedelta\n",
    "import random\n",
    "\n",
    "\n",
    "dataframe = pd.read_csv('data/datacsv_repair.csv', sep=';')\n",
    "# Assuming 'dataframe' is your DataFrame and 'timestamp' is the column name\n",
    "start_time = datetime.now()\n",
    "dataframe['timestamp'] = [start_time + timedelta(seconds=i*15 + random.randint(0, 15)) for i in range(len(dataframe))]\n",
    "dataframe = pm4py.format_dataframe(dataframe, case_id='case_id', activity_key='activity', timestamp_key='timestamp')\n",
    "event_log = pm4py.convert_to_event_log(dataframe)"
   ]
  },
  {
   "cell_type": "code",
   "execution_count": 6,
   "metadata": {
    "colab": {
     "base_uri": "https://localhost:8080/",
     "height": 683
    },
    "id": "-s7o7BjGkPBb",
    "outputId": "9c47ab9d-f92f-4b27-f2bc-45e7f6049b6d"
   },
   "outputs": [
    {
     "data": {
      "text/html": [
       "<div>\n",
       "<style scoped>\n",
       "    .dataframe tbody tr th:only-of-type {\n",
       "        vertical-align: middle;\n",
       "    }\n",
       "\n",
       "    .dataframe tbody tr th {\n",
       "        vertical-align: top;\n",
       "    }\n",
       "\n",
       "    .dataframe thead th {\n",
       "        text-align: right;\n",
       "    }\n",
       "</style>\n",
       "<table border=\"1\" class=\"dataframe\">\n",
       "  <thead>\n",
       "    <tr style=\"text-align: right;\">\n",
       "      <th></th>\n",
       "      <th>case_id</th>\n",
       "      <th>activity</th>\n",
       "      <th>resource</th>\n",
       "      <th>timestamp</th>\n",
       "      <th>case:concept:name</th>\n",
       "      <th>concept:name</th>\n",
       "      <th>time:timestamp</th>\n",
       "      <th>@@index</th>\n",
       "      <th>@@case_index</th>\n",
       "    </tr>\n",
       "  </thead>\n",
       "  <tbody>\n",
       "    <tr>\n",
       "      <th>0</th>\n",
       "      <td>1</td>\n",
       "      <td>Receive an item and repair request</td>\n",
       "      <td>John</td>\n",
       "      <td>2024-12-11 13:33:27.743900+00:00</td>\n",
       "      <td>1</td>\n",
       "      <td>Receive an item and repair request</td>\n",
       "      <td>2024-12-11 13:33:27.743900+00:00</td>\n",
       "      <td>0</td>\n",
       "      <td>0</td>\n",
       "    </tr>\n",
       "    <tr>\n",
       "      <th>1</th>\n",
       "      <td>1</td>\n",
       "      <td>Check the item</td>\n",
       "      <td>Mike</td>\n",
       "      <td>2024-12-11 13:33:34.743900+00:00</td>\n",
       "      <td>1</td>\n",
       "      <td>Check the item</td>\n",
       "      <td>2024-12-11 13:33:34.743900+00:00</td>\n",
       "      <td>1</td>\n",
       "      <td>0</td>\n",
       "    </tr>\n",
       "    <tr>\n",
       "      <th>2</th>\n",
       "      <td>1</td>\n",
       "      <td>Check the warranty</td>\n",
       "      <td>John</td>\n",
       "      <td>2024-12-11 13:33:57.743900+00:00</td>\n",
       "      <td>1</td>\n",
       "      <td>Check the warranty</td>\n",
       "      <td>2024-12-11 13:33:57.743900+00:00</td>\n",
       "      <td>2</td>\n",
       "      <td>0</td>\n",
       "    </tr>\n",
       "    <tr>\n",
       "      <th>3</th>\n",
       "      <td>1</td>\n",
       "      <td>Notify the customer</td>\n",
       "      <td>Sue</td>\n",
       "      <td>2024-12-11 13:34:01.743900+00:00</td>\n",
       "      <td>1</td>\n",
       "      <td>Notify the customer</td>\n",
       "      <td>2024-12-11 13:34:01.743900+00:00</td>\n",
       "      <td>3</td>\n",
       "      <td>0</td>\n",
       "    </tr>\n",
       "    <tr>\n",
       "      <th>4</th>\n",
       "      <td>1</td>\n",
       "      <td>Repair the item</td>\n",
       "      <td>Pete</td>\n",
       "      <td>2024-12-11 13:34:24.743900+00:00</td>\n",
       "      <td>1</td>\n",
       "      <td>Repair the item</td>\n",
       "      <td>2024-12-11 13:34:24.743900+00:00</td>\n",
       "      <td>4</td>\n",
       "      <td>0</td>\n",
       "    </tr>\n",
       "    <tr>\n",
       "      <th>5</th>\n",
       "      <td>1</td>\n",
       "      <td>Issue payment</td>\n",
       "      <td>Jane</td>\n",
       "      <td>2024-12-11 13:34:34.743900+00:00</td>\n",
       "      <td>1</td>\n",
       "      <td>Issue payment</td>\n",
       "      <td>2024-12-11 13:34:34.743900+00:00</td>\n",
       "      <td>5</td>\n",
       "      <td>0</td>\n",
       "    </tr>\n",
       "    <tr>\n",
       "      <th>6</th>\n",
       "      <td>1</td>\n",
       "      <td>Return the item</td>\n",
       "      <td>Sue</td>\n",
       "      <td>2024-12-11 13:34:56.743900+00:00</td>\n",
       "      <td>1</td>\n",
       "      <td>Return the item</td>\n",
       "      <td>2024-12-11 13:34:56.743900+00:00</td>\n",
       "      <td>6</td>\n",
       "      <td>0</td>\n",
       "    </tr>\n",
       "    <tr>\n",
       "      <th>7</th>\n",
       "      <td>2</td>\n",
       "      <td>Receive an item and repair request</td>\n",
       "      <td>John</td>\n",
       "      <td>2024-12-11 13:35:02.743900+00:00</td>\n",
       "      <td>2</td>\n",
       "      <td>Receive an item and repair request</td>\n",
       "      <td>2024-12-11 13:35:02.743900+00:00</td>\n",
       "      <td>7</td>\n",
       "      <td>1</td>\n",
       "    </tr>\n",
       "    <tr>\n",
       "      <th>8</th>\n",
       "      <td>2</td>\n",
       "      <td>Check the warranty</td>\n",
       "      <td>John</td>\n",
       "      <td>2024-12-11 13:35:28.743900+00:00</td>\n",
       "      <td>2</td>\n",
       "      <td>Check the warranty</td>\n",
       "      <td>2024-12-11 13:35:28.743900+00:00</td>\n",
       "      <td>8</td>\n",
       "      <td>1</td>\n",
       "    </tr>\n",
       "    <tr>\n",
       "      <th>9</th>\n",
       "      <td>2</td>\n",
       "      <td>Check the item</td>\n",
       "      <td>Fred</td>\n",
       "      <td>2024-12-11 13:35:37.743900+00:00</td>\n",
       "      <td>2</td>\n",
       "      <td>Check the item</td>\n",
       "      <td>2024-12-11 13:35:37.743900+00:00</td>\n",
       "      <td>9</td>\n",
       "      <td>1</td>\n",
       "    </tr>\n",
       "    <tr>\n",
       "      <th>10</th>\n",
       "      <td>2</td>\n",
       "      <td>Notify the customer</td>\n",
       "      <td>Clare</td>\n",
       "      <td>2024-12-11 13:35:53.743900+00:00</td>\n",
       "      <td>2</td>\n",
       "      <td>Notify the customer</td>\n",
       "      <td>2024-12-11 13:35:53.743900+00:00</td>\n",
       "      <td>10</td>\n",
       "      <td>1</td>\n",
       "    </tr>\n",
       "    <tr>\n",
       "      <th>11</th>\n",
       "      <td>2</td>\n",
       "      <td>Send a cancellation letter</td>\n",
       "      <td>Clare</td>\n",
       "      <td>2024-12-11 13:36:06.743900+00:00</td>\n",
       "      <td>2</td>\n",
       "      <td>Send a cancellation letter</td>\n",
       "      <td>2024-12-11 13:36:06.743900+00:00</td>\n",
       "      <td>11</td>\n",
       "      <td>1</td>\n",
       "    </tr>\n",
       "    <tr>\n",
       "      <th>12</th>\n",
       "      <td>2</td>\n",
       "      <td>Return the item</td>\n",
       "      <td>Clare</td>\n",
       "      <td>2024-12-11 13:36:19.743900+00:00</td>\n",
       "      <td>2</td>\n",
       "      <td>Return the item</td>\n",
       "      <td>2024-12-11 13:36:19.743900+00:00</td>\n",
       "      <td>12</td>\n",
       "      <td>1</td>\n",
       "    </tr>\n",
       "  </tbody>\n",
       "</table>\n",
       "</div>"
      ],
      "text/plain": [
       "    case_id                            activity resource  \\\n",
       "0         1  Receive an item and repair request     John   \n",
       "1         1                      Check the item     Mike   \n",
       "2         1                  Check the warranty     John   \n",
       "3         1                 Notify the customer      Sue   \n",
       "4         1                     Repair the item     Pete   \n",
       "5         1                       Issue payment     Jane   \n",
       "6         1                     Return the item      Sue   \n",
       "7         2  Receive an item and repair request     John   \n",
       "8         2                  Check the warranty     John   \n",
       "9         2                      Check the item     Fred   \n",
       "10        2                 Notify the customer    Clare   \n",
       "11        2          Send a cancellation letter    Clare   \n",
       "12        2                     Return the item    Clare   \n",
       "\n",
       "                          timestamp case:concept:name  \\\n",
       "0  2024-12-11 13:33:27.743900+00:00                 1   \n",
       "1  2024-12-11 13:33:34.743900+00:00                 1   \n",
       "2  2024-12-11 13:33:57.743900+00:00                 1   \n",
       "3  2024-12-11 13:34:01.743900+00:00                 1   \n",
       "4  2024-12-11 13:34:24.743900+00:00                 1   \n",
       "5  2024-12-11 13:34:34.743900+00:00                 1   \n",
       "6  2024-12-11 13:34:56.743900+00:00                 1   \n",
       "7  2024-12-11 13:35:02.743900+00:00                 2   \n",
       "8  2024-12-11 13:35:28.743900+00:00                 2   \n",
       "9  2024-12-11 13:35:37.743900+00:00                 2   \n",
       "10 2024-12-11 13:35:53.743900+00:00                 2   \n",
       "11 2024-12-11 13:36:06.743900+00:00                 2   \n",
       "12 2024-12-11 13:36:19.743900+00:00                 2   \n",
       "\n",
       "                          concept:name                   time:timestamp  \\\n",
       "0   Receive an item and repair request 2024-12-11 13:33:27.743900+00:00   \n",
       "1                       Check the item 2024-12-11 13:33:34.743900+00:00   \n",
       "2                   Check the warranty 2024-12-11 13:33:57.743900+00:00   \n",
       "3                  Notify the customer 2024-12-11 13:34:01.743900+00:00   \n",
       "4                      Repair the item 2024-12-11 13:34:24.743900+00:00   \n",
       "5                        Issue payment 2024-12-11 13:34:34.743900+00:00   \n",
       "6                      Return the item 2024-12-11 13:34:56.743900+00:00   \n",
       "7   Receive an item and repair request 2024-12-11 13:35:02.743900+00:00   \n",
       "8                   Check the warranty 2024-12-11 13:35:28.743900+00:00   \n",
       "9                       Check the item 2024-12-11 13:35:37.743900+00:00   \n",
       "10                 Notify the customer 2024-12-11 13:35:53.743900+00:00   \n",
       "11          Send a cancellation letter 2024-12-11 13:36:06.743900+00:00   \n",
       "12                     Return the item 2024-12-11 13:36:19.743900+00:00   \n",
       "\n",
       "    @@index  @@case_index  \n",
       "0         0             0  \n",
       "1         1             0  \n",
       "2         2             0  \n",
       "3         3             0  \n",
       "4         4             0  \n",
       "5         5             0  \n",
       "6         6             0  \n",
       "7         7             1  \n",
       "8         8             1  \n",
       "9         9             1  \n",
       "10       10             1  \n",
       "11       11             1  \n",
       "12       12             1  "
      ]
     },
     "execution_count": 6,
     "metadata": {},
     "output_type": "execute_result"
    }
   ],
   "source": [
    "dataframe"
   ]
  },
  {
   "cell_type": "code",
   "execution_count": 7,
   "metadata": {
    "id": "9E405_N8hMWd"
   },
   "outputs": [
    {
     "data": {
      "text/plain": [
       "[{'attributes': {'concept:name': '1'}, 'events': [{'case_id': 1, 'activity': 'Receive an item and repair request', 'resource': 'John', 'timestamp': Timestamp('2024-12-11 13:33:27.743900+0000', tz='UTC'), 'concept:name': 'Receive an item and repair request', 'time:timestamp': Timestamp('2024-12-11 13:33:27.743900+0000', tz='UTC'), '@@index': 0, '@@case_index': 0}, '..', {'case_id': 1, 'activity': 'Return the item', 'resource': 'Sue', 'timestamp': Timestamp('2024-12-11 13:34:56.743900+0000', tz='UTC'), 'concept:name': 'Return the item', 'time:timestamp': Timestamp('2024-12-11 13:34:56.743900+0000', tz='UTC'), '@@index': 6, '@@case_index': 0}]}, '....', {'attributes': {'concept:name': '2'}, 'events': [{'case_id': 2, 'activity': 'Receive an item and repair request', 'resource': 'John', 'timestamp': Timestamp('2024-12-11 13:35:02.743900+0000', tz='UTC'), 'concept:name': 'Receive an item and repair request', 'time:timestamp': Timestamp('2024-12-11 13:35:02.743900+0000', tz='UTC'), '@@index': 7, '@@case_index': 1}, '..', {'case_id': 2, 'activity': 'Return the item', 'resource': 'Clare', 'timestamp': Timestamp('2024-12-11 13:36:19.743900+0000', tz='UTC'), 'concept:name': 'Return the item', 'time:timestamp': Timestamp('2024-12-11 13:36:19.743900+0000', tz='UTC'), '@@index': 12, '@@case_index': 1}]}]"
      ]
     },
     "execution_count": 7,
     "metadata": {},
     "output_type": "execute_result"
    }
   ],
   "source": [
    "event_log"
   ]
  },
  {
   "cell_type": "code",
   "execution_count": 8,
   "metadata": {
    "id": "og1z6gkDhMWe"
   },
   "outputs": [],
   "source": [
    "import os\n",
    "\n",
    "net, initial_marking, final_marking = pm4py.discover_petri_net_inductive(event_log)"
   ]
  },
  {
   "cell_type": "code",
   "execution_count": 9,
   "metadata": {
    "colab": {
     "base_uri": "https://localhost:8080/"
    },
    "id": "uTQZNj4Gkwmz",
    "outputId": "108cb660-8a81-490c-a9ea-aec5089fb99a"
   },
   "outputs": [
    {
     "name": "stderr",
     "output_type": "stream",
     "text": [
      "'apt-get' is not recognized as an internal or external command,\n",
      "operable program or batch file.\n"
     ]
    }
   ],
   "source": [
    "!apt-get install graphviz -y"
   ]
  },
  {
   "cell_type": "code",
   "execution_count": 10,
   "metadata": {
    "colab": {
     "base_uri": "https://localhost:8080/",
     "height": 111
    },
    "id": "XJIRuGGohMWe",
    "outputId": "8da53709-5544-46bc-d62e-f72f6ceba708"
   },
   "outputs": [
    {
     "data": {
      "image/png": "[encoded data removed]",
      "text/plain": [
       "<IPython.core.display.Image object>"
      ]
     },
     "metadata": {},
     "output_type": "display_data"
    }
   ],
   "source": [
    "from pm4py.visualization.petri_net import visualizer as pn_visualizer\n",
    "gviz = pn_visualizer.apply(net, initial_marking, final_marking)\n",
    "pn_visualizer.view(gviz)"
   ]
  },
  {
   "cell_type": "code",
   "execution_count": 11,
   "metadata": {
    "colab": {
     "base_uri": "https://localhost:8080/",
     "height": 860
    },
    "id": "jduW-BilhMWe",
    "outputId": "ee13ed50-71c3-44a0-e5c4-69305611a896"
   },
   "outputs": [
    {
     "data": {
      "image/png": "[encoded data removed]",
      "text/plain": [
       "<IPython.core.display.Image object>"
      ]
     },
     "metadata": {},
     "output_type": "display_data"
    }
   ],
   "source": [
    "from pm4py.objects.petri_net.utils import reachability_graph\n",
    "from pm4py.visualization.transition_system import visualizer as ts_visualizer\n",
    "\n",
    "ts = reachability_graph.construct_reachability_graph(net, initial_marking)\n",
    "\n",
    "gviz = ts_visualizer.apply(ts, parameters={ts_visualizer.Variants.VIEW_BASED.value.Parameters.FORMAT: \"png\"})\n",
    "ts_visualizer.view(gviz)"
   ]
  },
  {
   "cell_type": "code",
   "execution_count": 12,
   "metadata": {
    "id": "zA3RKRjshMWe"
   },
   "outputs": [
    {
     "name": "stdout",
     "output_type": "stream",
     "text": [
      "Okay\n"
     ]
    }
   ],
   "source": [
    "from neo4j import GraphDatabase\n",
    "uri = \"bolt://localhost:7687\"\n",
    "user = 'tester'\n",
    "password = '1234'\n",
    "\n",
    "driver = GraphDatabase.driver(uri=uri, auth=(user,password))\n",
    "session=driver.session()\n",
    "if(session):\n",
    "    print(\"Okay\")"
   ]
  },
  {
   "cell_type": "code",
   "execution_count": 13,
   "metadata": {
    "id": "Exhs6EOShMWe",
    "outputId": "c1ebe9e1-1ef2-4f24-8d20-43bebd16f0fd"
   },
   "outputs": [
    {
     "name": "stdout",
     "output_type": "stream",
     "text": [
      "['Receive an item and repair request', 'Notify the customer', 'Return the item', 'Check the item', 'Check the warranty', 'Send a cancellation letter', 'Repair the item', 'Issue payment', 'START', 'END']\n"
     ]
    }
   ],
   "source": [
    "# Acuan nama transition di model proses\n",
    "trans_name = []\n",
    "for t in net.transitions:\n",
    "    trans_name.append(t.label)\n",
    "trans_name.append('START')\n",
    "trans_name.append('END')\n",
    "print(trans_name)"
   ]
  },
  {
   "cell_type": "code",
   "execution_count": 14,
   "metadata": {
    "id": "4xShPhPvhMWf"
   },
   "outputs": [],
   "source": [
    "# Acuan nama transition yang perlu baca tipe team\n",
    "trans_team = ['Check the item', 'Notify the customer', 'Send a cancellation letter', 'Repair the item', 'Issue payment', 'Return the item']"
   ]
  },
  {
   "cell_type": "code",
   "execution_count": 15,
   "metadata": {
    "id": "waCp7wlihMWf"
   },
   "outputs": [],
   "source": [
    "### generate the RG in Neo4j\n",
    "\n",
    "# Cipher untuk membuat RG di Neo4J\n",
    "def createState(tx, state):\n",
    "    tx.run(\"CREATE (:State {name: $state})\", state=state)\n",
    "    return None\n",
    "def createRelationship(tx, state_source, transition_name, transition_label, state_target):\n",
    "    tx.run('''\n",
    "    MATCH (x:State),(y:State)\n",
    "    WHERE x.name = $state_source AND y.name = $state_target\n",
    "    MERGE (x)-[:Transition {name: $transition_name, label:$transition_label}]->(y)\n",
    "    ''', state_source=state_source, transition_name=transition_name, transition_label=transition_label, state_target=state_target)\n",
    "    return None\n",
    "\n",
    "# Generate REACHABILITY GRAPH di neo4j dari objek model Petrinet\n",
    "def generate_rg_on_neo4j(net):\n",
    "    #session.run(\"MATCH (N) detach delete (N)\")\n",
    "\n",
    "    for s in ts.states:\n",
    "        sname = s.name\n",
    "        createState(session, sname)\n",
    "\n",
    "    for t in net.transitions:\n",
    "        tname = t.name\n",
    "        if t.name not in trans_name:\n",
    "            tlabel = 'Invisible'\n",
    "        else:\n",
    "            tlabel = t.name\n",
    "\n",
    "        source = t.from_state\n",
    "        target = t.to_state\n",
    "\n",
    "        createRelationship(session, source.name, t.name, tlabel, target.name)\n",
    "    return None\n"
   ]
  },
  {
   "cell_type": "code",
   "execution_count": 16,
   "metadata": {
    "id": "CX78ScNfhMWf"
   },
   "outputs": [],
   "source": [
    "# Cipher untuk membuat petrinet di Neo4J\n",
    "def createTransition(tx, tname, tlabel):\n",
    "    tx.run(\"CREATE (:Transition {type:'master', name: $tname, label: $tlabel })\", tname=tname, tlabel=tlabel)\n",
    "    return None\n",
    "def createPlace(tx, place):\n",
    "    tx.run(\"CREATE (:Place {type:'master', label: 'Invisible', name: $place, token:0, c:0, p:0, m:0, fm:0, inv_incoming: false})\", place=place)\n",
    "    return None\n",
    "def createRelationship_place_to_transition(tx, place_name, transition_name):\n",
    "    tx.run('''\n",
    "    MATCH (x:Place), (y:Transition)\n",
    "    WHERE x.name = $place_name AND y.name = $transition_name\n",
    "    MERGE (x)-[:Arc {type:'master', name: $place_name+'_'+$transition_name, f:0, c:0}]->(y)\n",
    "    ''', place_name=place_name, transition_name=transition_name)\n",
    "    return None\n",
    "def createRelationship_transition_to_place(tx, transition_name, place_name):\n",
    "    tx.run('''\n",
    "    MATCH (x:Transition), (y:Place)\n",
    "    WHERE x.name = $transition_name AND y.name = $place_name\n",
    "    MERGE (x)-[:Arc {type:'master', name: $transition_name+'_'+$place_name, f:0, p:0}]->(y)\n",
    "    ''', place_name=place_name, transition_name=transition_name)\n",
    "    return None\n",
    "def setMasterInitialMarking(tx, im_name):\n",
    "    tx.run('''\n",
    "    MATCH (im:Place {name:$im_name})\n",
    "    SET im.type = 'master', im.im = True, im.token = 1, im.p = 1\n",
    "    ''', im_name=im_name)\n",
    "    return None\n",
    "def setMasterFinalMarking(tx, fm_name):\n",
    "    tx.run('''\n",
    "    MATCH (x:Place {name:$fm_name})\n",
    "    SET x.fm = True\n",
    "    ''', fm_name=fm_name)\n",
    "    return None"
   ]
  },
  {
   "cell_type": "code",
   "execution_count": 17,
   "metadata": {
    "id": "gUemgOrAhMWf"
   },
   "outputs": [],
   "source": [
    "# Generate model petrinet di neo4j dari objek model Petrinet\n",
    "def start_environtmen(net):\n",
    "    session.run(\"MATCH (N) detach delete (N)\")\n",
    "\n",
    "    generate_rg_on_neo4j(ts)\n",
    "\n",
    "    for t in net.transitions:\n",
    "        if t.label == None:\n",
    "            tlabel = 'Invisible'\n",
    "        else:\n",
    "            tlabel = t.label\n",
    "        tname = t.name\n",
    "        createTransition(session, tname, tlabel)\n",
    "\n",
    "    for p in net.places:\n",
    "        createPlace(session, p.name)\n",
    "\n",
    "    for arc in net.arcs:\n",
    "        source = arc.source\n",
    "        target = arc.target\n",
    "        source_class = source.__class__.__name__\n",
    "        target_class = target.__class__.__name__\n",
    "\n",
    "        if source_class == 'Place':\n",
    "            place_name = source.name\n",
    "            transition_name = target.name\n",
    "            createRelationship_place_to_transition(session, place_name, transition_name)\n",
    "        else: # transition\n",
    "            transition_name = source.name\n",
    "            place_name = target.name\n",
    "            createRelationship_transition_to_place(session, transition_name, place_name)\n",
    "\n",
    "    im_name = [im for im in initial_marking][0].name\n",
    "    setMasterInitialMarking(session, im_name)\n",
    "\n",
    "    fm_name = [fm for fm in final_marking][0].name\n",
    "    setMasterFinalMarking(session, fm_name)\n",
    "    return None\n"
   ]
  },
  {
   "cell_type": "code",
   "execution_count": 18,
   "metadata": {
    "id": "CK9vZSUQhMWg"
   },
   "outputs": [],
   "source": [
    "# Cypher to create organizational model\n",
    "# Cipher untuk membuat petrinet di Neo4J\n",
    "\n",
    "# contoh entity\n",
    "# entity_name = team, entity\n",
    "\n",
    "def createEntity(tx, eName):\n",
    "    tx.run(\"CREATE (:Entity {eName:$eName })\", eName=eName)\n",
    "    return None\n",
    "\n",
    "# def createOrgUnit(tx):\n",
    "#     createEntity(tx, 'orgUnit')\n",
    "#     return None\n",
    "# def createTeam(tx):\n",
    "#     createEntity(tx, 'team')\n",
    "#     return None\n",
    "# def createRole(tx):\n",
    "#     createEntity(tx, 'role')\n",
    "    return None\n",
    "\n",
    "def createResource(tx, rName):\n",
    "    tx.run(\"CREATE (:Resource {rName: $rName})\", rName=rName)\n",
    "    return None\n",
    "\n",
    "def createProductTypeVariable(tx, name, prodType):\n",
    "    tx.run(\"CREATE (:Variable {type:'master', name:$name, team: $prodType})\", name=name, prodType=prodType)\n",
    "    return None"
   ]
  },
  {
   "cell_type": "code",
   "execution_count": 19,
   "metadata": {
    "id": "9in40dX_hMWg"
   },
   "outputs": [],
   "source": [
    "teams = ['Team', 'Mobile Phone team','GPS team','Customer Service team']\n",
    "roles = ['Structural', 'Clerk', 'Engineer Manager', 'Engineer','Financial Administrator']\n",
    "originators = ['John','Sue','Clare','Mike','Pete','Fred','Robert','Jane','Mona']"
   ]
  },
  {
   "cell_type": "code",
   "execution_count": 20,
   "metadata": {
    "id": "i3pLcMtMhMWg"
   },
   "outputs": [],
   "source": [
    "# fungsi relasi\n",
    "def createRelationship_team_to_ou(tx):\n",
    "    tx.run('''\n",
    "    MATCH (x:Team), (y:OrgUnit)\n",
    "    MERGE (x)-[:isA]->(y)\n",
    "    ''')\n",
    "    return None\n",
    "def createRelationship_role_to_ou(tx):\n",
    "    tx.run('''\n",
    "    MATCH (x:Role), (y:OrgUnit)\n",
    "    MERGE (x)-[:isA]->(y)\n",
    "    ''')\n",
    "    return None\n",
    "\n",
    "def createRelationship_resource_to_Entity(tx, rName, eName ):\n",
    "    tx.run('''\n",
    "    MATCH (x:Resource {rName:$rName}), (y:Entity {eName:$eName})\n",
    "    MERGE (x)<-[:ROLE]-(y)\n",
    "    ''', rName=rName, eName=eName)\n",
    "\n",
    "\n",
    "def createRelationship_resource_to_Role(tx, rName, eName ):\n",
    "    tx.run('''\n",
    "    MATCH (x:Resource {rName:$rName}), (y:Role {eName:$eName})\n",
    "    MERGE (x)<-[:ROLE]-(y)\n",
    "    ''', rName=rName, eName=eName)\n",
    "    return None\n",
    "def createRelationship_resource_to_Team(tx, rName, tName ):\n",
    "    tx.run('''\n",
    "    MATCH (x:Resource {rName:$rName}), (y:Team {tName:$tName})\n",
    "    MERGE (x)<-[:TEAM]-(y)\n",
    "    ''', rName=rName, tName=tName)\n",
    "    return None"
   ]
  },
  {
   "cell_type": "code",
   "execution_count": 21,
   "metadata": {
    "id": "QAwOflgohMWg"
   },
   "outputs": [],
   "source": [
    "def createRelationship_entity_supervise_entity(tx, eName1, eName2 ):\n",
    "    tx.run('''\n",
    "    MATCH (x:Entity {eName:$eName1}), (y:Entity {eName:$eName2})\n",
    "    MERGE (x)-[:SUPERVISED_BY]->(y)\n",
    "    ''', eName1=eName1, eName2=eName2)\n",
    "\n",
    "def createRelationship_entity_to_root(tx, eName, rootName ):\n",
    "    tx.run('''\n",
    "    MATCH (x:Entity {eName:$eName}), (y:Entity {eName:$rootName})\n",
    "    MERGE (x)-[:TO_ROOT]->(y)\n",
    "    ''', eName=eName, rootName=rootName)\n",
    "\n",
    "\n",
    "def createRelationship_task_to_entity(tx, label, eName ):\n",
    "    tx.run('''\n",
    "    MATCH (x:Transition {label:$label}), (y:Entity {eName:$eName})\n",
    "    MERGE (x)-[:EXECUTED_BY]->(y)\n",
    "    ''', label=label, eName=eName)\n",
    "\n",
    "def createRelationship_task_to_role(tx, label, eName ):\n",
    "    tx.run('''\n",
    "    MATCH (x:Transition {label:$label}), (y:Role {eName:$eName})\n",
    "    MERGE (x)-[:EXECUTED_BY]->(y)\n",
    "    ''', label=label, eName=eName)\n",
    "    return None\n",
    "def createRelationship_task_to_team(tx, label, tName ):\n",
    "    tx.run('''\n",
    "    MATCH (x:Transition {label:$label}), (y:Team {tName:$tName})\n",
    "    MERGE (x)-[:EXECUTED_BY]->(y)\n",
    "    ''', label=label, tName=tName)\n",
    "    return None\n",
    "\n",
    "# write variable\n",
    "def createRelationship_task_to_variable(tx, label, name ):\n",
    "    tx.run('''\n",
    "    MATCH (x:Transition {label:$label}), (y:Variable {name:$name})\n",
    "    MERGE (x)-[:WRITE]->(y)\n",
    "    ''', label=label, name=name)\n",
    "    return None\n",
    "\n",
    "# read variable\n",
    "def createRelationship_variable_to_task(tx, var_name, label):\n",
    "    tx.run('''\n",
    "    MATCH (y:Variable {name:$var_name}),(x:Transition {label:$label})\n",
    "    MERGE (y)-[:READ]->(x)\n",
    "    ''', label=label, var_name=var_name)\n",
    "    return None"
   ]
  },
  {
   "cell_type": "code",
   "execution_count": 23,
   "metadata": {
    "id": "a2GV_394hMWh"
   },
   "outputs": [],
   "source": [
    "def generate_organizational_model():\n",
    "    # Buat model organisasi\n",
    "    # createOrgUnit(session)\n",
    "\n",
    "    for team in teams:\n",
    "        createEntity(session, team)\n",
    "\n",
    "    for role in roles:\n",
    "        createEntity(session, role)\n",
    "\n",
    "    for name in originators:\n",
    "        createResource(session, name)\n",
    "\n",
    "\n",
    "    # Relasi entiti ke entiti\n",
    "    createRelationship_entity_supervise_entity(session, 'Engineer', 'Engineer Manager' )\n",
    "    createRelationship_entity_to_root(session, 'Clerk', 'Structural' )\n",
    "    createRelationship_entity_to_root(session, 'Financial Administrator', 'Structural' )\n",
    "    createRelationship_entity_to_root(session, 'Engineer Manager', 'Structural' )\n",
    "    createRelationship_entity_to_root(session, 'Customer Service team', 'Team' )\n",
    "    createRelationship_entity_to_root(session, 'Mobile Phone team', 'Team' )\n",
    "    createRelationship_entity_to_root(session, 'GPS team', 'Team' )\n",
    "\n",
    "\n",
    "    # Eksekusi resource ke organizational unit\n",
    "    createRelationship_resource_to_Entity(session, 'John', 'Clerk')\n",
    "    createRelationship_resource_to_Entity(session, 'Sue', 'Clerk')\n",
    "    createRelationship_resource_to_Entity(session, 'Clare', 'Clerk')\n",
    "    createRelationship_resource_to_Entity(session, 'Mike', 'Engineer Manager')\n",
    "    createRelationship_resource_to_Entity(session, 'Pete', 'Engineer')\n",
    "    createRelationship_resource_to_Entity(session, 'Fred', 'Engineer')\n",
    "    createRelationship_resource_to_Entity(session, 'Robert', 'Engineer')\n",
    "    createRelationship_resource_to_Entity(session, 'Jane', 'Financial Administrator')\n",
    "    createRelationship_resource_to_Entity(session, 'Mona', 'Financial Administrator')\n",
    "\n",
    "    createRelationship_resource_to_Entity(session, 'John', 'Customer Service team')\n",
    "    createRelationship_resource_to_Entity(session, 'Sue', 'Mobile Phone team')\n",
    "    createRelationship_resource_to_Entity(session, 'Clare', 'GPS team')\n",
    "    createRelationship_resource_to_Entity(session, 'Mike', 'Mobile Phone team')\n",
    "    createRelationship_resource_to_Entity(session, 'Pete', 'Mobile Phone team')\n",
    "    createRelationship_resource_to_Entity(session, 'Fred', 'GPS team')\n",
    "    createRelationship_resource_to_Entity(session, 'Robert', 'GPS team')\n",
    "    createRelationship_resource_to_Entity(session, 'Jane', 'Mobile Phone team')\n",
    "    createRelationship_resource_to_Entity(session, 'Mona', 'GPS team')\n",
    "\n",
    "    # Eksekusi relationship aktifitas (model proses) ke organizational model\n",
    "\n",
    "    createRelationship_task_to_entity(session, 'Receive an item and repair request', 'Customer Service team' )\n",
    "    createRelationship_task_to_entity(session, 'Receive an item and repair request', 'Clerk' )\n",
    "\n",
    "    createRelationship_task_to_entity(session, 'Check the warranty', 'Customer Service team' )\n",
    "    createRelationship_task_to_entity(session, 'Check the warranty', 'Clerk' )\n",
    "\n",
    "    createRelationship_task_to_entity(session, 'Check the item', 'Engineer' )\n",
    "    createRelationship_task_to_entity(session, 'Check the item', 'GPS team' )\n",
    "    createRelationship_task_to_entity(session, 'Check the item', 'Mobile Phone team' )\n",
    "\n",
    "    createRelationship_task_to_entity(session, 'Notify the customer', 'Clerk' )\n",
    "    createRelationship_task_to_entity(session, 'Notify the customer', 'GPS team' )\n",
    "    createRelationship_task_to_entity(session, 'Notify the customer', 'Mobile Phone team' )\n",
    "\n",
    "    createRelationship_task_to_entity(session, 'Repair the item', 'Engineer' )\n",
    "    createRelationship_task_to_entity(session, 'Repair the item', 'GPS team' )\n",
    "    createRelationship_task_to_entity(session, 'Repair the item', 'Mobile Phone team' )\n",
    "\n",
    "    createRelationship_task_to_entity(session, 'Issue payment', 'Financial Administrator' )\n",
    "    createRelationship_task_to_entity(session, 'Issue payment', 'GPS team' )\n",
    "    createRelationship_task_to_entity(session, 'Issue payment', 'Mobile Phone team' )\n",
    "\n",
    "    createRelationship_task_to_entity(session, 'Send a cancellation letter', 'Clerk' )\n",
    "    createRelationship_task_to_entity(session, 'Send a cancellation letter', 'GPS team' )\n",
    "    createRelationship_task_to_entity(session, 'Send a cancellation letter', 'Mobile Phone team' )\n",
    "\n",
    "    createRelationship_task_to_entity(session, 'Return the item', 'Clerk' )\n",
    "    createRelationship_task_to_entity(session, 'Return the item', 'GPS team' )\n",
    "    createRelationship_task_to_entity(session, 'Return the item', 'Mobile Phone team' )\n",
    "\n",
    "\n",
    "    createProductTypeVariable(session, 'product_type', '') # team masih kosong\n",
    "    createRelationship_task_to_variable(session, 'Receive an item and repair request', 'product_type' )\n",
    "\n",
    "\n",
    "\n",
    "    #read\n",
    "    createRelationship_variable_to_task(session, 'product_type', 'Check the item' )\n",
    "    createRelationship_variable_to_task(session, 'product_type', 'Notify the customer' )\n",
    "    createRelationship_variable_to_task(session, 'product_type', 'Send a cancellation letter' )\n",
    "    createRelationship_variable_to_task(session, 'product_type', 'Repair the item' )\n",
    "    createRelationship_variable_to_task(session, 'product_type', 'Issue payment' )\n",
    "    createRelationship_variable_to_task(session, 'product_type', 'Return the item')\n",
    "    createRelationship_variable_to_task(session, 'product_type', 'Check the item' )\n",
    "    createRelationship_variable_to_task(session, 'product_type', 'Check the item' )\n",
    "    createRelationship_variable_to_task(session, 'product_type', 'Check the item' )\n",
    "\n"
   ]
  },
  {
   "cell_type": "code",
   "execution_count": 24,
   "metadata": {
    "id": "Nwsp8vb6hMWh",
    "outputId": "b7179a0d-81b3-4141-e113-5b3b4fb26b16"
   },
   "outputs": [
    {
     "data": {
      "text/html": [
       "<div>\n",
       "<style scoped>\n",
       "    .dataframe tbody tr th:only-of-type {\n",
       "        vertical-align: middle;\n",
       "    }\n",
       "\n",
       "    .dataframe tbody tr th {\n",
       "        vertical-align: top;\n",
       "    }\n",
       "\n",
       "    .dataframe thead th {\n",
       "        text-align: right;\n",
       "    }\n",
       "</style>\n",
       "<table border=\"1\" class=\"dataframe\">\n",
       "  <thead>\n",
       "    <tr style=\"text-align: right;\">\n",
       "      <th></th>\n",
       "      <th>orgStructure</th>\n",
       "      <th>orgTeam</th>\n",
       "    </tr>\n",
       "    <tr>\n",
       "      <th>actor</th>\n",
       "      <th></th>\n",
       "      <th></th>\n",
       "    </tr>\n",
       "  </thead>\n",
       "  <tbody>\n",
       "    <tr>\n",
       "      <th>John</th>\n",
       "      <td>Clerk</td>\n",
       "      <td>Customer Service Team</td>\n",
       "    </tr>\n",
       "    <tr>\n",
       "      <th>Sue</th>\n",
       "      <td>Clerk</td>\n",
       "      <td>Mobile Phone team</td>\n",
       "    </tr>\n",
       "    <tr>\n",
       "      <th>Clare</th>\n",
       "      <td>Clerk</td>\n",
       "      <td>GPS team</td>\n",
       "    </tr>\n",
       "    <tr>\n",
       "      <th>Mike</th>\n",
       "      <td>Engineer Manager</td>\n",
       "      <td>Mobile Phone team</td>\n",
       "    </tr>\n",
       "    <tr>\n",
       "      <th>Pete</th>\n",
       "      <td>Engineer</td>\n",
       "      <td>Mobile Phone team</td>\n",
       "    </tr>\n",
       "    <tr>\n",
       "      <th>Fred</th>\n",
       "      <td>Engineer</td>\n",
       "      <td>GPS team</td>\n",
       "    </tr>\n",
       "    <tr>\n",
       "      <th>Robert</th>\n",
       "      <td>Engineer</td>\n",
       "      <td>GPS team</td>\n",
       "    </tr>\n",
       "    <tr>\n",
       "      <th>Jane</th>\n",
       "      <td>Financial Administrator</td>\n",
       "      <td>Mobile Phone team</td>\n",
       "    </tr>\n",
       "    <tr>\n",
       "      <th>Mona</th>\n",
       "      <td>Financial Administrator</td>\n",
       "      <td>GPS team</td>\n",
       "    </tr>\n",
       "  </tbody>\n",
       "</table>\n",
       "</div>"
      ],
      "text/plain": [
       "                   orgStructure                orgTeam\n",
       "actor                                                 \n",
       "John                      Clerk  Customer Service Team\n",
       "Sue                       Clerk      Mobile Phone team\n",
       "Clare                     Clerk               GPS team\n",
       "Mike           Engineer Manager      Mobile Phone team\n",
       "Pete                   Engineer      Mobile Phone team\n",
       "Fred                   Engineer               GPS team\n",
       "Robert                 Engineer               GPS team\n",
       "Jane    Financial Administrator      Mobile Phone team\n",
       "Mona    Financial Administrator               GPS team"
      ]
     },
     "execution_count": 24,
     "metadata": {},
     "output_type": "execute_result"
    }
   ],
   "source": [
    "#actor_entity\n",
    "df_res_tab = pd.read_excel ('./data/resource_model.xlsx',sheet_name='actor_entity')\n",
    "df_res_tab.set_index(\"actor\", inplace = True)\n",
    "df_res_tab"
   ]
  },
  {
   "cell_type": "code",
   "execution_count": 25,
   "metadata": {
    "id": "nT7M_L21hMWh",
    "outputId": "2b392b2c-7fc6-4b3f-8bfd-b35ed56f73a9"
   },
   "outputs": [
    {
     "data": {
      "text/plain": [
       "'Mobile Phone team'"
      ]
     },
     "execution_count": 25,
     "metadata": {},
     "output_type": "execute_result"
    }
   ],
   "source": [
    "df_res_tab.loc['Pete']['orgTeam']"
   ]
  },
  {
   "cell_type": "code",
   "execution_count": 26,
   "metadata": {
    "id": "tFpwHQmghMWh",
    "outputId": "5dc1ecc3-bcdd-425c-b103-55c99ad4ff31"
   },
   "outputs": [
    {
     "data": {
      "text/html": [
       "<div>\n",
       "<style scoped>\n",
       "    .dataframe tbody tr th:only-of-type {\n",
       "        vertical-align: middle;\n",
       "    }\n",
       "\n",
       "    .dataframe tbody tr th {\n",
       "        vertical-align: top;\n",
       "    }\n",
       "\n",
       "    .dataframe thead th {\n",
       "        text-align: right;\n",
       "    }\n",
       "</style>\n",
       "<table border=\"1\" class=\"dataframe\">\n",
       "  <thead>\n",
       "    <tr style=\"text-align: right;\">\n",
       "      <th></th>\n",
       "      <th>orgStructure</th>\n",
       "      <th>orgTeam</th>\n",
       "      <th>orgTeamVariableName</th>\n",
       "    </tr>\n",
       "    <tr>\n",
       "      <th>activity</th>\n",
       "      <th></th>\n",
       "      <th></th>\n",
       "      <th></th>\n",
       "    </tr>\n",
       "  </thead>\n",
       "  <tbody>\n",
       "    <tr>\n",
       "      <th>Receive an item and repair request</th>\n",
       "      <td>Clerk</td>\n",
       "      <td>Customer Service team</td>\n",
       "      <td>NaN</td>\n",
       "    </tr>\n",
       "    <tr>\n",
       "      <th>Check the warranty</th>\n",
       "      <td>Clerk</td>\n",
       "      <td>Customer Service team</td>\n",
       "      <td>NaN</td>\n",
       "    </tr>\n",
       "    <tr>\n",
       "      <th>Check the item</th>\n",
       "      <td>Engineer</td>\n",
       "      <td>variable</td>\n",
       "      <td>product_type</td>\n",
       "    </tr>\n",
       "    <tr>\n",
       "      <th>Notify the customer</th>\n",
       "      <td>Clerk</td>\n",
       "      <td>variable</td>\n",
       "      <td>product_type</td>\n",
       "    </tr>\n",
       "    <tr>\n",
       "      <th>Send a cancellation letter</th>\n",
       "      <td>Clerk</td>\n",
       "      <td>variable</td>\n",
       "      <td>product_type</td>\n",
       "    </tr>\n",
       "    <tr>\n",
       "      <th>Repair the item</th>\n",
       "      <td>Engineer</td>\n",
       "      <td>variable</td>\n",
       "      <td>product_type</td>\n",
       "    </tr>\n",
       "    <tr>\n",
       "      <th>Issue payment</th>\n",
       "      <td>Financial Administrator</td>\n",
       "      <td>variable</td>\n",
       "      <td>product_type</td>\n",
       "    </tr>\n",
       "    <tr>\n",
       "      <th>Return the item</th>\n",
       "      <td>Clerk</td>\n",
       "      <td>variable</td>\n",
       "      <td>product_type</td>\n",
       "    </tr>\n",
       "    <tr>\n",
       "      <th>START</th>\n",
       "      <td>NaN</td>\n",
       "      <td>NaN</td>\n",
       "      <td>NaN</td>\n",
       "    </tr>\n",
       "    <tr>\n",
       "      <th>END</th>\n",
       "      <td>NaN</td>\n",
       "      <td>NaN</td>\n",
       "      <td>NaN</td>\n",
       "    </tr>\n",
       "  </tbody>\n",
       "</table>\n",
       "</div>"
      ],
      "text/plain": [
       "                                               orgStructure  \\\n",
       "activity                                                      \n",
       "Receive an item and repair request                    Clerk   \n",
       "Check the warranty                                    Clerk   \n",
       "Check the item                                     Engineer   \n",
       "Notify the customer                                   Clerk   \n",
       "Send a cancellation letter                            Clerk   \n",
       "Repair the item                                    Engineer   \n",
       "Issue payment                       Financial Administrator   \n",
       "Return the item                                       Clerk   \n",
       "START                                                   NaN   \n",
       "END                                                     NaN   \n",
       "\n",
       "                                                  orgTeam orgTeamVariableName  \n",
       "activity                                                                       \n",
       "Receive an item and repair request  Customer Service team                 NaN  \n",
       "Check the warranty                  Customer Service team                 NaN  \n",
       "Check the item                                   variable        product_type  \n",
       "Notify the customer                              variable        product_type  \n",
       "Send a cancellation letter                       variable        product_type  \n",
       "Repair the item                                  variable        product_type  \n",
       "Issue payment                                    variable        product_type  \n",
       "Return the item                                  variable        product_type  \n",
       "START                                                 NaN                 NaN  \n",
       "END                                                   NaN                 NaN  "
      ]
     },
     "execution_count": 26,
     "metadata": {},
     "output_type": "execute_result"
    }
   ],
   "source": [
    "#activity_entity\n",
    "\n",
    "df_activity_entity = pd.read_excel ('data/resource_model.xlsx',sheet_name='activity_entity')\n",
    "df_activity_entity.set_index(\"activity\", inplace = True)\n",
    "df_activity_entity\n"
   ]
  },
  {
   "cell_type": "code",
   "execution_count": 27,
   "metadata": {
    "id": "ipi9ao0YhMWi",
    "outputId": "0c553e4d-ef50-47ae-cc5b-7207f0acac64"
   },
   "outputs": [
    {
     "data": {
      "text/html": [
       "<div>\n",
       "<style scoped>\n",
       "    .dataframe tbody tr th:only-of-type {\n",
       "        vertical-align: middle;\n",
       "    }\n",
       "\n",
       "    .dataframe tbody tr th {\n",
       "        vertical-align: top;\n",
       "    }\n",
       "\n",
       "    .dataframe thead th {\n",
       "        text-align: right;\n",
       "    }\n",
       "</style>\n",
       "<table border=\"1\" class=\"dataframe\">\n",
       "  <thead>\n",
       "    <tr style=\"text-align: right;\">\n",
       "      <th></th>\n",
       "      <th>product_type</th>\n",
       "    </tr>\n",
       "    <tr>\n",
       "      <th>activity</th>\n",
       "      <th></th>\n",
       "    </tr>\n",
       "  </thead>\n",
       "  <tbody>\n",
       "    <tr>\n",
       "      <th>Receive an item and repair request</th>\n",
       "      <td>write</td>\n",
       "    </tr>\n",
       "    <tr>\n",
       "      <th>Check the warranty</th>\n",
       "      <td>NaN</td>\n",
       "    </tr>\n",
       "    <tr>\n",
       "      <th>Check the item</th>\n",
       "      <td>read</td>\n",
       "    </tr>\n",
       "    <tr>\n",
       "      <th>Notify the customer</th>\n",
       "      <td>read</td>\n",
       "    </tr>\n",
       "    <tr>\n",
       "      <th>Send a cancellation letter</th>\n",
       "      <td>read</td>\n",
       "    </tr>\n",
       "    <tr>\n",
       "      <th>Repair the item</th>\n",
       "      <td>read</td>\n",
       "    </tr>\n",
       "    <tr>\n",
       "      <th>Issue payment</th>\n",
       "      <td>read</td>\n",
       "    </tr>\n",
       "    <tr>\n",
       "      <th>Return the item</th>\n",
       "      <td>read</td>\n",
       "    </tr>\n",
       "    <tr>\n",
       "      <th>START</th>\n",
       "      <td>NaN</td>\n",
       "    </tr>\n",
       "    <tr>\n",
       "      <th>END</th>\n",
       "      <td>NaN</td>\n",
       "    </tr>\n",
       "  </tbody>\n",
       "</table>\n",
       "</div>"
      ],
      "text/plain": [
       "                                   product_type\n",
       "activity                                       \n",
       "Receive an item and repair request        write\n",
       "Check the warranty                          NaN\n",
       "Check the item                             read\n",
       "Notify the customer                        read\n",
       "Send a cancellation letter                 read\n",
       "Repair the item                            read\n",
       "Issue payment                              read\n",
       "Return the item                            read\n",
       "START                                       NaN\n",
       "END                                         NaN"
      ]
     },
     "execution_count": 27,
     "metadata": {},
     "output_type": "execute_result"
    }
   ],
   "source": [
    "#activity_function\n",
    "\n",
    "df_activity_function = pd.read_excel ('data/resource_model.xlsx',sheet_name='activity_function')\n",
    "df_activity_function.set_index(\"activity\", inplace = True)\n",
    "df_activity_function\n"
   ]
  },
  {
   "cell_type": "markdown",
   "metadata": {
    "id": "GeI0ocJHhMWi"
   },
   "source": [
    "### Model replay image"
   ]
  },
  {
   "cell_type": "code",
   "execution_count": 28,
   "metadata": {
    "id": "8vbs_5AWhMWi"
   },
   "outputs": [],
   "source": [
    "# cloning diidentifikasikan dari type di source place\n",
    "# tiap cloning bisa dibuat dengan p_id baru\n",
    "# p_id pada master diabaikan saja, krn hanya untuk diduplikasi oleh cloning nya\n",
    "\n",
    "#https://neo4j.com/labs/apoc/4.2/overview/apoc.refactor/apoc.refactor.cloneSubgraphFromPaths/\n",
    "\n",
    "def createCloneFromModelRef(p_id):\n",
    "    q_rootNode ='''\n",
    "        //MATCH path = (root {type:'master', im:True})-[*]->(m {fm:True}) # semua bagian graf yang akan di clone\n",
    "        //WITH distinct root AS rootA\n",
    "        //CALL apoc.refactor.cloneNodes([rootA])\n",
    "        //YIELD input, output\n",
    "        //WITH rootA, input, output AS rootB\n",
    "        //SET rootB.type='clone', rootB.p_id = $p_id\n",
    "\n",
    "        MaTCH (rootA:Place {type:'master', im:True}) // initial marking\n",
    "        WITH distinct rootA\n",
    "        CALL apoc.refactor.cloneNodes([rootA])\n",
    "        YIELD input, output\n",
    "        WITH rootA, input, output AS rootB\n",
    "        SET rootB.type='clone', rootB.p_id = $p_id\n",
    "\n",
    "        WITH rootA, rootB\n",
    "        MATCH path = (rootA)-[*]->(node)\n",
    "        WHERE node.type = 'master'\n",
    "        WITH rootA, rootB, collect(distinct path) as paths\n",
    "        CALL apoc.refactor.cloneSubgraphFromPaths(paths, {\n",
    "            standinNodes:[[rootA, rootB]]\n",
    "        })\n",
    "        YIELD input, output, error\n",
    "        WITH collect(DISTINCT output) AS nodes\n",
    "        UNWIND nodes as node\n",
    "        SET node.type = 'clone', node.p_id = $p_id\n",
    "\n",
    "        RETURN node //input, output, error\n",
    "    '''\n",
    "    session.run(q_rootNode, p_id=p_id)"
   ]
  },
  {
   "cell_type": "code",
   "execution_count": 29,
   "metadata": {
    "id": "77FVsAKqhMWi"
   },
   "outputs": [],
   "source": [
    "p_id = '12345'\n",
    "start_environtmen(net)\n",
    "generate_organizational_model()\n",
    "# createCloneFromModelRef(p_id)"
   ]
  },
  {
   "cell_type": "markdown",
   "metadata": {
    "id": "bTWaFq0OhMWj"
   },
   "source": [
    "### Buat data event log anomali"
   ]
  },
  {
   "cell_type": "code",
   "execution_count": null,
   "metadata": {
    "id": "cu2qQzj6hMWj"
   },
   "outputs": [],
   "source": [
    "df_ano = pd.read_csv('./data/datacsv_repair - anomali - v2.csv', sep=';')\n",
    "df_ano['timestamp'] = [start_time + timedelta(seconds=i*15 + random.randint(0, 15)) for i in range(len(df_ano))]\n",
    "df_anomali = pm4py.format_dataframe(df_ano, case_id='case_id', activity_key='activity', timestamp_key='timestamp')\n",
    "# event_log_anomali = pm4py.convert_to_event_log(df_anomali)\n",
    "df_anomali.index.name = 'index'\n",
    "df_anomali = df_anomali.sort_index(ascending=True)"
   ]
  },
  {
   "cell_type": "code",
   "execution_count": 33,
   "metadata": {
    "id": "iu2ROLJEhMWj",
    "outputId": "1e03fbd1-19a6-4d9b-88ad-10a546b33b18"
   },
   "outputs": [
    {
     "data": {
      "text/html": [
       "<div>\n",
       "<style scoped>\n",
       "    .dataframe tbody tr th:only-of-type {\n",
       "        vertical-align: middle;\n",
       "    }\n",
       "\n",
       "    .dataframe tbody tr th {\n",
       "        vertical-align: top;\n",
       "    }\n",
       "\n",
       "    .dataframe thead th {\n",
       "        text-align: right;\n",
       "    }\n",
       "</style>\n",
       "<table border=\"1\" class=\"dataframe\">\n",
       "  <thead>\n",
       "    <tr style=\"text-align: right;\">\n",
       "      <th></th>\n",
       "      <th>case_id</th>\n",
       "      <th>activity</th>\n",
       "      <th>resource</th>\n",
       "      <th>timestamp</th>\n",
       "      <th>product_type</th>\n",
       "      <th>case:concept:name</th>\n",
       "      <th>concept:name</th>\n",
       "      <th>time:timestamp</th>\n",
       "      <th>@@index</th>\n",
       "      <th>@@case_index</th>\n",
       "    </tr>\n",
       "    <tr>\n",
       "      <th>index</th>\n",
       "      <th></th>\n",
       "      <th></th>\n",
       "      <th></th>\n",
       "      <th></th>\n",
       "      <th></th>\n",
       "      <th></th>\n",
       "      <th></th>\n",
       "      <th></th>\n",
       "      <th></th>\n",
       "      <th></th>\n",
       "    </tr>\n",
       "  </thead>\n",
       "  <tbody>\n",
       "    <tr>\n",
       "      <th>0</th>\n",
       "      <td>1</td>\n",
       "      <td>Receive an item and repair request</td>\n",
       "      <td>John</td>\n",
       "      <td>2024-12-11 13:33:17.743900+00:00</td>\n",
       "      <td>Mobile Phone team</td>\n",
       "      <td>1</td>\n",
       "      <td>Receive an item and repair request</td>\n",
       "      <td>2024-12-11 13:33:17.743900+00:00</td>\n",
       "      <td>0</td>\n",
       "      <td>0</td>\n",
       "    </tr>\n",
       "    <tr>\n",
       "      <th>1</th>\n",
       "      <td>1</td>\n",
       "      <td>Notify the customer</td>\n",
       "      <td>Sue</td>\n",
       "      <td>2024-12-11 13:33:46.743900+00:00</td>\n",
       "      <td>NaN</td>\n",
       "      <td>1</td>\n",
       "      <td>Notify the customer</td>\n",
       "      <td>2024-12-11 13:33:46.743900+00:00</td>\n",
       "      <td>1</td>\n",
       "      <td>0</td>\n",
       "    </tr>\n",
       "    <tr>\n",
       "      <th>2</th>\n",
       "      <td>1</td>\n",
       "      <td>Check the item</td>\n",
       "      <td>Mike</td>\n",
       "      <td>2024-12-11 13:35:26.743900+00:00</td>\n",
       "      <td>NaN</td>\n",
       "      <td>1</td>\n",
       "      <td>Check the item</td>\n",
       "      <td>2024-12-11 13:35:26.743900+00:00</td>\n",
       "      <td>2</td>\n",
       "      <td>0</td>\n",
       "    </tr>\n",
       "    <tr>\n",
       "      <th>3</th>\n",
       "      <td>1</td>\n",
       "      <td>Repair the item</td>\n",
       "      <td>Pete</td>\n",
       "      <td>2024-12-11 13:36:09.743900+00:00</td>\n",
       "      <td>NaN</td>\n",
       "      <td>1</td>\n",
       "      <td>Repair the item</td>\n",
       "      <td>2024-12-11 13:36:09.743900+00:00</td>\n",
       "      <td>3</td>\n",
       "      <td>0</td>\n",
       "    </tr>\n",
       "    <tr>\n",
       "      <th>4</th>\n",
       "      <td>1</td>\n",
       "      <td>Issue payment</td>\n",
       "      <td>Jane</td>\n",
       "      <td>2024-12-11 13:37:13.743900+00:00</td>\n",
       "      <td>NaN</td>\n",
       "      <td>1</td>\n",
       "      <td>Issue payment</td>\n",
       "      <td>2024-12-11 13:37:13.743900+00:00</td>\n",
       "      <td>4</td>\n",
       "      <td>0</td>\n",
       "    </tr>\n",
       "    <tr>\n",
       "      <th>5</th>\n",
       "      <td>1</td>\n",
       "      <td>Return the item</td>\n",
       "      <td>Sue</td>\n",
       "      <td>2024-12-11 13:37:52.743900+00:00</td>\n",
       "      <td>NaN</td>\n",
       "      <td>1</td>\n",
       "      <td>Return the item</td>\n",
       "      <td>2024-12-11 13:37:52.743900+00:00</td>\n",
       "      <td>5</td>\n",
       "      <td>0</td>\n",
       "    </tr>\n",
       "    <tr>\n",
       "      <th>6</th>\n",
       "      <td>2</td>\n",
       "      <td>Receive an item and repair request</td>\n",
       "      <td>John</td>\n",
       "      <td>2024-12-11 13:33:35.743900+00:00</td>\n",
       "      <td>GPS team</td>\n",
       "      <td>2</td>\n",
       "      <td>Receive an item and repair request</td>\n",
       "      <td>2024-12-11 13:33:35.743900+00:00</td>\n",
       "      <td>6</td>\n",
       "      <td>1</td>\n",
       "    </tr>\n",
       "    <tr>\n",
       "      <th>7</th>\n",
       "      <td>2</td>\n",
       "      <td>Check the warranty</td>\n",
       "      <td>John</td>\n",
       "      <td>2024-12-11 13:34:43.743900+00:00</td>\n",
       "      <td>NaN</td>\n",
       "      <td>2</td>\n",
       "      <td>Check the warranty</td>\n",
       "      <td>2024-12-11 13:34:43.743900+00:00</td>\n",
       "      <td>7</td>\n",
       "      <td>1</td>\n",
       "    </tr>\n",
       "    <tr>\n",
       "      <th>8</th>\n",
       "      <td>2</td>\n",
       "      <td>Check the item</td>\n",
       "      <td>Pete</td>\n",
       "      <td>2024-12-11 13:38:20.743900+00:00</td>\n",
       "      <td>NaN</td>\n",
       "      <td>2</td>\n",
       "      <td>Check the item</td>\n",
       "      <td>2024-12-11 13:38:20.743900+00:00</td>\n",
       "      <td>8</td>\n",
       "      <td>1</td>\n",
       "    </tr>\n",
       "    <tr>\n",
       "      <th>9</th>\n",
       "      <td>2</td>\n",
       "      <td>Notify the customer</td>\n",
       "      <td>Clare</td>\n",
       "      <td>2024-12-11 13:38:36.743900+00:00</td>\n",
       "      <td>NaN</td>\n",
       "      <td>2</td>\n",
       "      <td>Notify the customer</td>\n",
       "      <td>2024-12-11 13:38:36.743900+00:00</td>\n",
       "      <td>9</td>\n",
       "      <td>1</td>\n",
       "    </tr>\n",
       "    <tr>\n",
       "      <th>10</th>\n",
       "      <td>2</td>\n",
       "      <td>Send a cancellation letter</td>\n",
       "      <td>Clare</td>\n",
       "      <td>2024-12-11 13:39:06.743900+00:00</td>\n",
       "      <td>NaN</td>\n",
       "      <td>2</td>\n",
       "      <td>Send a cancellation letter</td>\n",
       "      <td>2024-12-11 13:39:06.743900+00:00</td>\n",
       "      <td>10</td>\n",
       "      <td>1</td>\n",
       "    </tr>\n",
       "    <tr>\n",
       "      <th>11</th>\n",
       "      <td>2</td>\n",
       "      <td>Return the item</td>\n",
       "      <td>Clare</td>\n",
       "      <td>2024-12-11 13:39:16.743900+00:00</td>\n",
       "      <td>NaN</td>\n",
       "      <td>2</td>\n",
       "      <td>Return the item</td>\n",
       "      <td>2024-12-11 13:39:16.743900+00:00</td>\n",
       "      <td>11</td>\n",
       "      <td>1</td>\n",
       "    </tr>\n",
       "    <tr>\n",
       "      <th>12</th>\n",
       "      <td>3</td>\n",
       "      <td>Receive an item and repair request</td>\n",
       "      <td>John</td>\n",
       "      <td>2024-12-11 13:34:10.743900+00:00</td>\n",
       "      <td>Mobile Phone team</td>\n",
       "      <td>3</td>\n",
       "      <td>Receive an item and repair request</td>\n",
       "      <td>2024-12-11 13:34:10.743900+00:00</td>\n",
       "      <td>12</td>\n",
       "      <td>2</td>\n",
       "    </tr>\n",
       "    <tr>\n",
       "      <th>13</th>\n",
       "      <td>3</td>\n",
       "      <td>Check the item</td>\n",
       "      <td>Mike</td>\n",
       "      <td>2024-12-11 13:34:18.743900+00:00</td>\n",
       "      <td>NaN</td>\n",
       "      <td>3</td>\n",
       "      <td>Check the item</td>\n",
       "      <td>2024-12-11 13:34:18.743900+00:00</td>\n",
       "      <td>13</td>\n",
       "      <td>2</td>\n",
       "    </tr>\n",
       "    <tr>\n",
       "      <th>14</th>\n",
       "      <td>3</td>\n",
       "      <td>Check the warranty</td>\n",
       "      <td>John</td>\n",
       "      <td>2024-12-11 13:35:11.743900+00:00</td>\n",
       "      <td>NaN</td>\n",
       "      <td>3</td>\n",
       "      <td>Check the warranty</td>\n",
       "      <td>2024-12-11 13:35:11.743900+00:00</td>\n",
       "      <td>14</td>\n",
       "      <td>2</td>\n",
       "    </tr>\n",
       "    <tr>\n",
       "      <th>15</th>\n",
       "      <td>3</td>\n",
       "      <td>Notify the customer</td>\n",
       "      <td>Sue</td>\n",
       "      <td>2024-12-11 13:35:34.743900+00:00</td>\n",
       "      <td>NaN</td>\n",
       "      <td>3</td>\n",
       "      <td>Notify the customer</td>\n",
       "      <td>2024-12-11 13:35:34.743900+00:00</td>\n",
       "      <td>15</td>\n",
       "      <td>2</td>\n",
       "    </tr>\n",
       "    <tr>\n",
       "      <th>16</th>\n",
       "      <td>3</td>\n",
       "      <td>Repair the item</td>\n",
       "      <td>Pete</td>\n",
       "      <td>2024-12-11 13:35:48.743900+00:00</td>\n",
       "      <td>NaN</td>\n",
       "      <td>3</td>\n",
       "      <td>Repair the item</td>\n",
       "      <td>2024-12-11 13:35:48.743900+00:00</td>\n",
       "      <td>16</td>\n",
       "      <td>2</td>\n",
       "    </tr>\n",
       "    <tr>\n",
       "      <th>17</th>\n",
       "      <td>3</td>\n",
       "      <td>Issue payment</td>\n",
       "      <td>Jane</td>\n",
       "      <td>2024-12-11 13:36:30.743900+00:00</td>\n",
       "      <td>NaN</td>\n",
       "      <td>3</td>\n",
       "      <td>Issue payment</td>\n",
       "      <td>2024-12-11 13:36:30.743900+00:00</td>\n",
       "      <td>17</td>\n",
       "      <td>2</td>\n",
       "    </tr>\n",
       "    <tr>\n",
       "      <th>18</th>\n",
       "      <td>3</td>\n",
       "      <td>Return the item</td>\n",
       "      <td>Sue</td>\n",
       "      <td>2024-12-11 13:37:33.743900+00:00</td>\n",
       "      <td>NaN</td>\n",
       "      <td>3</td>\n",
       "      <td>Return the item</td>\n",
       "      <td>2024-12-11 13:37:33.743900+00:00</td>\n",
       "      <td>18</td>\n",
       "      <td>2</td>\n",
       "    </tr>\n",
       "    <tr>\n",
       "      <th>19</th>\n",
       "      <td>4</td>\n",
       "      <td>Receive an item and repair request</td>\n",
       "      <td>John</td>\n",
       "      <td>2024-12-11 13:34:48.743900+00:00</td>\n",
       "      <td>GPS team</td>\n",
       "      <td>4</td>\n",
       "      <td>Receive an item and repair request</td>\n",
       "      <td>2024-12-11 13:34:48.743900+00:00</td>\n",
       "      <td>19</td>\n",
       "      <td>3</td>\n",
       "    </tr>\n",
       "    <tr>\n",
       "      <th>20</th>\n",
       "      <td>4</td>\n",
       "      <td>Check the warranty</td>\n",
       "      <td>John</td>\n",
       "      <td>2024-12-11 13:36:21.743900+00:00</td>\n",
       "      <td>NaN</td>\n",
       "      <td>4</td>\n",
       "      <td>Check the warranty</td>\n",
       "      <td>2024-12-11 13:36:21.743900+00:00</td>\n",
       "      <td>20</td>\n",
       "      <td>3</td>\n",
       "    </tr>\n",
       "    <tr>\n",
       "      <th>21</th>\n",
       "      <td>4</td>\n",
       "      <td>Check the item</td>\n",
       "      <td>Jane</td>\n",
       "      <td>2024-12-11 13:36:58.743900+00:00</td>\n",
       "      <td>NaN</td>\n",
       "      <td>4</td>\n",
       "      <td>Check the item</td>\n",
       "      <td>2024-12-11 13:36:58.743900+00:00</td>\n",
       "      <td>21</td>\n",
       "      <td>3</td>\n",
       "    </tr>\n",
       "    <tr>\n",
       "      <th>22</th>\n",
       "      <td>4</td>\n",
       "      <td>Notify the customer</td>\n",
       "      <td>Clare</td>\n",
       "      <td>2024-12-11 13:37:19.743900+00:00</td>\n",
       "      <td>NaN</td>\n",
       "      <td>4</td>\n",
       "      <td>Notify the customer</td>\n",
       "      <td>2024-12-11 13:37:19.743900+00:00</td>\n",
       "      <td>22</td>\n",
       "      <td>3</td>\n",
       "    </tr>\n",
       "    <tr>\n",
       "      <th>23</th>\n",
       "      <td>4</td>\n",
       "      <td>Repair the item</td>\n",
       "      <td>Pete</td>\n",
       "      <td>2024-12-11 13:38:10.743900+00:00</td>\n",
       "      <td>NaN</td>\n",
       "      <td>4</td>\n",
       "      <td>Repair the item</td>\n",
       "      <td>2024-12-11 13:38:10.743900+00:00</td>\n",
       "      <td>23</td>\n",
       "      <td>3</td>\n",
       "    </tr>\n",
       "    <tr>\n",
       "      <th>24</th>\n",
       "      <td>4</td>\n",
       "      <td>Send a cancellation letter</td>\n",
       "      <td>Clare</td>\n",
       "      <td>2024-12-11 13:38:58.743900+00:00</td>\n",
       "      <td>NaN</td>\n",
       "      <td>4</td>\n",
       "      <td>Send a cancellation letter</td>\n",
       "      <td>2024-12-11 13:38:58.743900+00:00</td>\n",
       "      <td>24</td>\n",
       "      <td>3</td>\n",
       "    </tr>\n",
       "    <tr>\n",
       "      <th>25</th>\n",
       "      <td>4</td>\n",
       "      <td>Return the item</td>\n",
       "      <td>Clare</td>\n",
       "      <td>2024-12-11 13:39:34.743900+00:00</td>\n",
       "      <td>NaN</td>\n",
       "      <td>4</td>\n",
       "      <td>Return the item</td>\n",
       "      <td>2024-12-11 13:39:34.743900+00:00</td>\n",
       "      <td>25</td>\n",
       "      <td>3</td>\n",
       "    </tr>\n",
       "  </tbody>\n",
       "</table>\n",
       "</div>"
      ],
      "text/plain": [
       "       case_id                            activity resource  \\\n",
       "index                                                         \n",
       "0            1  Receive an item and repair request     John   \n",
       "1            1                 Notify the customer      Sue   \n",
       "2            1                      Check the item     Mike   \n",
       "3            1                     Repair the item     Pete   \n",
       "4            1                       Issue payment     Jane   \n",
       "5            1                     Return the item      Sue   \n",
       "6            2  Receive an item and repair request     John   \n",
       "7            2                  Check the warranty     John   \n",
       "8            2                      Check the item     Pete   \n",
       "9            2                 Notify the customer    Clare   \n",
       "10           2          Send a cancellation letter    Clare   \n",
       "11           2                     Return the item    Clare   \n",
       "12           3  Receive an item and repair request     John   \n",
       "13           3                      Check the item     Mike   \n",
       "14           3                  Check the warranty     John   \n",
       "15           3                 Notify the customer      Sue   \n",
       "16           3                     Repair the item     Pete   \n",
       "17           3                       Issue payment     Jane   \n",
       "18           3                     Return the item      Sue   \n",
       "19           4  Receive an item and repair request     John   \n",
       "20           4                  Check the warranty     John   \n",
       "21           4                      Check the item     Jane   \n",
       "22           4                 Notify the customer    Clare   \n",
       "23           4                     Repair the item     Pete   \n",
       "24           4          Send a cancellation letter    Clare   \n",
       "25           4                     Return the item    Clare   \n",
       "\n",
       "                             timestamp       product_type case:concept:name  \\\n",
       "index                                                                         \n",
       "0     2024-12-11 13:33:17.743900+00:00  Mobile Phone team                 1   \n",
       "1     2024-12-11 13:33:46.743900+00:00                NaN                 1   \n",
       "2     2024-12-11 13:35:26.743900+00:00                NaN                 1   \n",
       "3     2024-12-11 13:36:09.743900+00:00                NaN                 1   \n",
       "4     2024-12-11 13:37:13.743900+00:00                NaN                 1   \n",
       "5     2024-12-11 13:37:52.743900+00:00                NaN                 1   \n",
       "6     2024-12-11 13:33:35.743900+00:00           GPS team                 2   \n",
       "7     2024-12-11 13:34:43.743900+00:00                NaN                 2   \n",
       "8     2024-12-11 13:38:20.743900+00:00                NaN                 2   \n",
       "9     2024-12-11 13:38:36.743900+00:00                NaN                 2   \n",
       "10    2024-12-11 13:39:06.743900+00:00                NaN                 2   \n",
       "11    2024-12-11 13:39:16.743900+00:00                NaN                 2   \n",
       "12    2024-12-11 13:34:10.743900+00:00  Mobile Phone team                 3   \n",
       "13    2024-12-11 13:34:18.743900+00:00                NaN                 3   \n",
       "14    2024-12-11 13:35:11.743900+00:00                NaN                 3   \n",
       "15    2024-12-11 13:35:34.743900+00:00                NaN                 3   \n",
       "16    2024-12-11 13:35:48.743900+00:00                NaN                 3   \n",
       "17    2024-12-11 13:36:30.743900+00:00                NaN                 3   \n",
       "18    2024-12-11 13:37:33.743900+00:00                NaN                 3   \n",
       "19    2024-12-11 13:34:48.743900+00:00           GPS team                 4   \n",
       "20    2024-12-11 13:36:21.743900+00:00                NaN                 4   \n",
       "21    2024-12-11 13:36:58.743900+00:00                NaN                 4   \n",
       "22    2024-12-11 13:37:19.743900+00:00                NaN                 4   \n",
       "23    2024-12-11 13:38:10.743900+00:00                NaN                 4   \n",
       "24    2024-12-11 13:38:58.743900+00:00                NaN                 4   \n",
       "25    2024-12-11 13:39:34.743900+00:00                NaN                 4   \n",
       "\n",
       "                             concept:name                   time:timestamp  \\\n",
       "index                                                                        \n",
       "0      Receive an item and repair request 2024-12-11 13:33:17.743900+00:00   \n",
       "1                     Notify the customer 2024-12-11 13:33:46.743900+00:00   \n",
       "2                          Check the item 2024-12-11 13:35:26.743900+00:00   \n",
       "3                         Repair the item 2024-12-11 13:36:09.743900+00:00   \n",
       "4                           Issue payment 2024-12-11 13:37:13.743900+00:00   \n",
       "5                         Return the item 2024-12-11 13:37:52.743900+00:00   \n",
       "6      Receive an item and repair request 2024-12-11 13:33:35.743900+00:00   \n",
       "7                      Check the warranty 2024-12-11 13:34:43.743900+00:00   \n",
       "8                          Check the item 2024-12-11 13:38:20.743900+00:00   \n",
       "9                     Notify the customer 2024-12-11 13:38:36.743900+00:00   \n",
       "10             Send a cancellation letter 2024-12-11 13:39:06.743900+00:00   \n",
       "11                        Return the item 2024-12-11 13:39:16.743900+00:00   \n",
       "12     Receive an item and repair request 2024-12-11 13:34:10.743900+00:00   \n",
       "13                         Check the item 2024-12-11 13:34:18.743900+00:00   \n",
       "14                     Check the warranty 2024-12-11 13:35:11.743900+00:00   \n",
       "15                    Notify the customer 2024-12-11 13:35:34.743900+00:00   \n",
       "16                        Repair the item 2024-12-11 13:35:48.743900+00:00   \n",
       "17                          Issue payment 2024-12-11 13:36:30.743900+00:00   \n",
       "18                        Return the item 2024-12-11 13:37:33.743900+00:00   \n",
       "19     Receive an item and repair request 2024-12-11 13:34:48.743900+00:00   \n",
       "20                     Check the warranty 2024-12-11 13:36:21.743900+00:00   \n",
       "21                         Check the item 2024-12-11 13:36:58.743900+00:00   \n",
       "22                    Notify the customer 2024-12-11 13:37:19.743900+00:00   \n",
       "23                        Repair the item 2024-12-11 13:38:10.743900+00:00   \n",
       "24             Send a cancellation letter 2024-12-11 13:38:58.743900+00:00   \n",
       "25                        Return the item 2024-12-11 13:39:34.743900+00:00   \n",
       "\n",
       "       @@index  @@case_index  \n",
       "index                         \n",
       "0            0             0  \n",
       "1            1             0  \n",
       "2            2             0  \n",
       "3            3             0  \n",
       "4            4             0  \n",
       "5            5             0  \n",
       "6            6             1  \n",
       "7            7             1  \n",
       "8            8             1  \n",
       "9            9             1  \n",
       "10          10             1  \n",
       "11          11             1  \n",
       "12          12             2  \n",
       "13          13             2  \n",
       "14          14             2  \n",
       "15          15             2  \n",
       "16          16             2  \n",
       "17          17             2  \n",
       "18          18             2  \n",
       "19          19             3  \n",
       "20          20             3  \n",
       "21          21             3  \n",
       "22          22             3  \n",
       "23          23             3  \n",
       "24          24             3  \n",
       "25          25             3  "
      ]
     },
     "execution_count": 33,
     "metadata": {},
     "output_type": "execute_result"
    }
   ],
   "source": [
    "df_anomali"
   ]
  },
  {
   "cell_type": "code",
   "execution_count": 34,
   "metadata": {
    "id": "fnHFhKp9hMWj"
   },
   "outputs": [],
   "source": [
    "def generateAllCase():\n",
    "#     df_one_case_ano = df_anomali[df_anomali['case:concept:name'] == case_id]\n",
    "    aggregate_event_streams = []\n",
    "    df_id = df_anomali['case:concept:name']\n",
    "    df_activity = df_anomali['concept:name']\n",
    "    df_originator = df_anomali['resource']\n",
    "    df_prod_type_access = df_anomali['product_type']\n",
    "    case_id_list = df_id.tolist()\n",
    "    activity_list = df_activity.tolist()\n",
    "    originator_list = df_originator.tolist()\n",
    "    prod_type_lsit = df_prod_type_access.tolist()\n",
    "    for (item1, item2, item3, item4) in zip(case_id_list, activity_list, originator_list, prod_type_lsit):\n",
    "        event_streams.append([item1, item2, item3, item4])\n",
    "    caseNum = 1\n",
    "    for event in event_streams:\n",
    "        if caseNum > 1: # kalau jumlah case lebih dari 1 digit\n",
    "            for i in range(caseNum):\n",
    "                aggregate_event_streams.append([(event[0] + str(i)), event[1], event[2], event[3]])\n",
    "        else:\n",
    "            aggregate_event_streams.append([event[0], event[1], event[2], event[3]])\n",
    "    return aggregate_event_streams"
   ]
  },
  {
   "cell_type": "code",
   "execution_count": 35,
   "metadata": {
    "id": "j9B-XguvhMWk",
    "outputId": "f8b17336-c9e3-42e6-a334-35f70a0b37c0"
   },
   "outputs": [
    {
     "data": {
      "text/plain": [
       "[['1', 'Receive an item and repair request', 'John', 'Mobile Phone team'],\n",
       " ['1', 'Notify the customer', 'Sue', nan],\n",
       " ['1', 'Check the item', 'Mike', nan],\n",
       " ['1', 'Repair the item', 'Pete', nan],\n",
       " ['1', 'Issue payment', 'Jane', nan],\n",
       " ['1', 'Return the item', 'Sue', nan],\n",
       " ['2', 'Receive an item and repair request', 'John', 'GPS team'],\n",
       " ['2', 'Check the warranty', 'John', nan],\n",
       " ['2', 'Check the item', 'Pete', nan],\n",
       " ['2', 'Notify the customer', 'Clare', nan],\n",
       " ['2', 'Send a cancellation letter', 'Clare', nan],\n",
       " ['2', 'Return the item', 'Clare', nan],\n",
       " ['3', 'Receive an item and repair request', 'John', 'Mobile Phone team'],\n",
       " ['3', 'Check the item', 'Mike', nan],\n",
       " ['3', 'Check the warranty', 'John', nan],\n",
       " ['3', 'Notify the customer', 'Sue', nan],\n",
       " ['3', 'Repair the item', 'Pete', nan],\n",
       " ['3', 'Issue payment', 'Jane', nan],\n",
       " ['3', 'Return the item', 'Sue', nan],\n",
       " ['4', 'Receive an item and repair request', 'John', 'GPS team'],\n",
       " ['4', 'Check the warranty', 'John', nan],\n",
       " ['4', 'Check the item', 'Jane', nan],\n",
       " ['4', 'Notify the customer', 'Clare', nan],\n",
       " ['4', 'Repair the item', 'Pete', nan],\n",
       " ['4', 'Send a cancellation letter', 'Clare', nan],\n",
       " ['4', 'Return the item', 'Clare', nan]]"
      ]
     },
     "execution_count": 35,
     "metadata": {},
     "output_type": "execute_result"
    }
   ],
   "source": [
    "event_streams = []\n",
    "aggregate_event_streams = []\n",
    "aggregate_event_streams = generateAllCase()\n",
    "event_streams"
   ]
  },
  {
   "cell_type": "code",
   "execution_count": 36,
   "metadata": {
    "id": "zLyrgBBZhMWk",
    "outputId": "df55f892-f399-4745-ed14-59b4f0a85a95"
   },
   "outputs": [
    {
     "data": {
      "text/plain": [
       "[['1', 'Receive an item and repair request', 'John', 'Mobile Phone team'],\n",
       " ['1', 'Notify the customer', 'Sue', nan],\n",
       " ['1', 'Check the item', 'Mike', nan],\n",
       " ['1', 'Repair the item', 'Pete', nan],\n",
       " ['1', 'Issue payment', 'Jane', nan],\n",
       " ['1', 'Return the item', 'Sue', nan],\n",
       " ['2', 'Receive an item and repair request', 'John', 'GPS team'],\n",
       " ['2', 'Check the warranty', 'John', nan],\n",
       " ['2', 'Check the item', 'Pete', nan],\n",
       " ['2', 'Notify the customer', 'Clare', nan],\n",
       " ['2', 'Send a cancellation letter', 'Clare', nan],\n",
       " ['2', 'Return the item', 'Clare', nan],\n",
       " ['3', 'Receive an item and repair request', 'John', 'Mobile Phone team'],\n",
       " ['3', 'Check the item', 'Mike', nan],\n",
       " ['3', 'Check the warranty', 'John', nan],\n",
       " ['3', 'Notify the customer', 'Sue', nan],\n",
       " ['3', 'Repair the item', 'Pete', nan],\n",
       " ['3', 'Issue payment', 'Jane', nan],\n",
       " ['3', 'Return the item', 'Sue', nan],\n",
       " ['4', 'Receive an item and repair request', 'John', 'GPS team'],\n",
       " ['4', 'Check the warranty', 'John', nan],\n",
       " ['4', 'Check the item', 'Jane', nan],\n",
       " ['4', 'Notify the customer', 'Clare', nan],\n",
       " ['4', 'Repair the item', 'Pete', nan],\n",
       " ['4', 'Send a cancellation letter', 'Clare', nan],\n",
       " ['4', 'Return the item', 'Clare', nan]]"
      ]
     },
     "execution_count": 36,
     "metadata": {},
     "output_type": "execute_result"
    }
   ],
   "source": [
    "aggregate_event_streams"
   ]
  },
  {
   "cell_type": "markdown",
   "metadata": {
    "id": "rkv1GFWthMWl"
   },
   "source": [
    "### Fungsi GO-TR"
   ]
  },
  {
   "cell_type": "code",
   "execution_count": 37,
   "metadata": {
    "id": "5XvZbjXGhMWl"
   },
   "outputs": [],
   "source": [
    "def getCurrentMarking(p_id):\n",
    "    q_consumeFinalMarking ='''\n",
    "            MATCH (cm:Place {p_id: $p_id})\n",
    "            WHERE cm.token > 0\n",
    "            RETURN collect(cm.name) AS current_marking\n",
    "         '''\n",
    "    results = session.run(q_consumeFinalMarking, p_id=p_id)\n",
    "\n",
    "    for record in results:\n",
    "        for e in record:\n",
    "            return record[0]\n",
    "# current_marking = getCurrentMarking(5)\n",
    "# current_marking\n",
    "\n",
    "def getFinalMarking(p_id):\n",
    "    q_finalMarking ='''\n",
    "            MATCH (p:Place {p_id: $p_id})\n",
    "            WHERE p.fm > 0\n",
    "            RETURN collect(p.name) AS finalMarking\n",
    "         '''\n",
    "    results = session.run(q_finalMarking, p_id=p_id)\n",
    "\n",
    "    for record in results:\n",
    "        for e in record:\n",
    "            return record[0]\n",
    "# current_marking = getCurrentMarking(5)\n",
    "# current_marking\n"
   ]
  },
  {
   "cell_type": "markdown",
   "metadata": {
    "id": "evgxMvG_hMWl"
   },
   "source": [
    "## Penelusuran invisible path"
   ]
  },
  {
   "cell_type": "code",
   "execution_count": 38,
   "metadata": {
    "id": "9gFux1bnhMWl"
   },
   "outputs": [],
   "source": [
    "def getAllEmptyInputPlaces(p_id, trans):\n",
    "    q_getAllEmptyInputPlaces = '''\n",
    "    MATCH (ip_mt: Place {p_id: $p_id})-->(e:Transition {label:$trans})\n",
    "    WHERE ip_mt.token = 0\n",
    "    RETURN ip_mt.name\n",
    "    '''\n",
    "    results = session.run(q_getAllEmptyInputPlaces, p_id=p_id, trans=trans)\n",
    "\n",
    "\n",
    "    emptyInputPlaces = []\n",
    "    for record in results:\n",
    "        for ip_mt in record:\n",
    "            emptyInputPlaces.append(ip_mt)\n",
    "    return emptyInputPlaces"
   ]
  },
  {
   "cell_type": "code",
   "execution_count": 39,
   "metadata": {
    "id": "hOFx0fmbhMWl"
   },
   "outputs": [],
   "source": [
    "def getAllInputPlaces(p_id, trans):\n",
    "    q_getAllInputPlaces = '''\n",
    "    MATCH (ip: Place {p_id: $p_id})-->(e:Transition {label:$trans})\n",
    "    RETURN ip.name\n",
    "    '''\n",
    "    results = session.run(q_getAllInputPlaces, p_id=p_id, trans=trans)\n",
    "\n",
    "\n",
    "    InputPlaces = []\n",
    "    for record in results:\n",
    "        for ip in record:\n",
    "            InputPlaces.append(ip)\n",
    "    return InputPlaces"
   ]
  },
  {
   "cell_type": "code",
   "execution_count": 40,
   "metadata": {
    "id": "G-_GNab9hMWm"
   },
   "outputs": [],
   "source": [
    "# current_marking, contoh: 'p_61'\n",
    "# target marking, contoh ['p_1', 'p_5']\n",
    "def checkCandidatesTargetStates(states, target_submarking):\n",
    "    target_names = target_submarking\n",
    "\n",
    "#     print(target_names)\n",
    "    candidate_target_states = []\n",
    "    for state in states: # periksa tiap state yang ada\n",
    "        for i in range(len(target_names)): # apakah semua nama target ada dalam satu state?\n",
    "#             print(target_names[i],'-->', state)\n",
    "            if target_names[i] not in state: # jika ada nama target yang tidak ada dalam state ini maka break\n",
    "                break\n",
    "            if i == len(target_names)-1: # kalau semua nama target place ada dalam state ini maka tambahkan state sbg kandidat\n",
    "                candidate_target_states.append(state)\n",
    "    return candidate_target_states"
   ]
  },
  {
   "cell_type": "code",
   "execution_count": 41,
   "metadata": {
    "id": "LiUd61PohMWm"
   },
   "outputs": [],
   "source": [
    "def findspf_rg(source_state, target_state):\n",
    "    q_spf_rg = '''\n",
    "        MATCH p = allshortestpaths((n {name:$source_state})-[:Transition *..100]->(m {name:$target_state}))\n",
    "        with p, relationships(p) as rs, [t in relationships(p) | t.name] AS t_names\n",
    "        WHERE ALL(t IN rs WHERE (t.label = 'Invisible'))\n",
    "        RETURN length(p) as length, t_names\n",
    "        limit 1\n",
    "    '''\n",
    "    results = session.run(q_spf_rg, source_state=source_state, target_state=target_state)\n",
    "\n",
    "    emptyInputPlaces = []\n",
    "    length = 0\n",
    "    t_names = []\n",
    "    for record in results:\n",
    "        length = record[0]\n",
    "        t_names = record[1]\n",
    "    return length, t_names"
   ]
  },
  {
   "cell_type": "code",
   "execution_count": 42,
   "metadata": {
    "id": "sbxbIKBGhMWm"
   },
   "outputs": [],
   "source": [
    "def check_invisible_path(current_state, candidate_target_states):\n",
    "    spf_len = 1000\n",
    "    spf_state = ''\n",
    "    spf_trans = []\n",
    "#     dummy_current_marking = 'source1'\n",
    "    source_state = current_state\n",
    "\n",
    "    for state in candidate_target_states:\n",
    "#         print('source_state:', source_state)\n",
    "#         print('state:', state)\n",
    "        l, t_names = findspf_rg(source_state, state)\n",
    "#         print(l,' ', state, ' ', spf_len)\n",
    "        if l>0 and l < spf_len:\n",
    "            spf_len = l\n",
    "            spf_state = state # update state dengan jarak terpendek\n",
    "            spf_trans = t_names\n",
    "    return spf_state, spf_trans # state untuk update token, t_names untuk update p,c, dan frek"
   ]
  },
  {
   "cell_type": "code",
   "execution_count": 43,
   "metadata": {
    "id": "QBcvIzdFhMWm"
   },
   "outputs": [],
   "source": [
    "# contoh state: p_121p_151, source1, sink1\n",
    "def extractTokenPlace(state_to_extract, places):\n",
    "    tokenPlaces = []\n",
    "    for place in places:\n",
    "        if place in state_to_extract:\n",
    "            tokenPlaces.append(place)\n",
    "\n",
    "    return tokenPlaces"
   ]
  },
  {
   "cell_type": "code",
   "execution_count": 44,
   "metadata": {
    "id": "NAMQFkTdhMWm"
   },
   "outputs": [],
   "source": [
    "# contoh activate_transitions = ['skip_2', 'tauSplit_8']\n",
    "\n",
    "def update_attributes(p_id, activate_transitions):\n",
    "    q_update_state = '''\n",
    "        with $activate_transitions AS ts\n",
    "        WITH [i in range(0, size(ts)-1) | {t:ts[i]}] AS pairs\n",
    "        UNWIND pairs as pair\n",
    "\n",
    "        MATCH (ip {p_id:$p_id})-[r]->(tr:Transition)\n",
    "        WHERE tr.name = pair.t\n",
    "        SET r.f = r.f + 1, ip.token = ip.token - 1, ip.c = ip.c + 1, ip.fm = ip.fm - 1 //, r.c = r.c + 1\n",
    "\n",
    "        WITH tr, pair\n",
    "        MATCH (tr)-[s]->(op)\n",
    "        //WHERE tr.name = pair.t\n",
    "        WITH distinct s AS s, op\n",
    "        SET  s.f = s.f + 1, op.token = op.token + 1, op.p = op.p + 1, op.fm = op.fm + 1 //, s.p = s.p + 1\n",
    "    '''\n",
    "    session.run(q_update_state, p_id=p_id, activate_transitions=activate_transitions)\n",
    "\n",
    "    return None\n",
    "\n",
    "\n"
   ]
  },
  {
   "cell_type": "code",
   "execution_count": 45,
   "metadata": {
    "id": "TnyjUf0thMWm"
   },
   "outputs": [],
   "source": [
    "def findStateName(states, placeNames):\n",
    "    target_names = placeNames\n",
    "#     print('states: ',states)\n",
    "#     print('placeNames: ',placeNames)\n",
    "#     print(target_names)\n",
    "    candidate_states = []\n",
    "    for state in states:\n",
    "        for i in range(len(target_names)):\n",
    "#             print(target_names[i],'-->', state)\n",
    "            if target_names[i] not in state:\n",
    "#                 print('break')\n",
    "                break\n",
    "            if i == len(target_names)-1:\n",
    "                candidate_states.append(state)\n",
    "#     print('candidate_states: ',candidate_states)\n",
    "    if candidate_states:\n",
    "        the_state = min(candidate_states, key=len)\n",
    "    else:\n",
    "        the_state = None\n",
    "\n",
    "    return the_state\n"
   ]
  },
  {
   "cell_type": "code",
   "execution_count": 46,
   "metadata": {
    "id": "l4apZZkWhMWm"
   },
   "outputs": [],
   "source": [
    "# return : kalau kosong maka semua place punya inv_task input,\n",
    "# kalau ada hasil berarti ini tanda ada place yg tdk punya inv_task input\n",
    "def allHasInvIncoming(p_id, placesName):\n",
    "    q_allHasInvIncoming = '''\n",
    "        with $placesName AS ps\n",
    "        WITH [i in range(0, size(ps)-1) | {p:ps[i]}] AS pairs\n",
    "        UNWIND pairs as pair\n",
    "        MATCH (p:Place {p_id:$p_id})\n",
    "        WITH pair, p, collect(p) as places\n",
    "        WHERE p.name = pair.p and none(place in places WHERE p.inv_incoming = true) // yang false ditampilkan\n",
    "        RETURN collect(p) AS place_no_inv_task_input\n",
    "    '''\n",
    "    results = session.run(q_allHasInvIncoming, p_id=p_id, placesName=placesName)\n",
    "\n",
    "    place_no_inv_task_input = []\n",
    "    for record in results:\n",
    "        place_no_inv_task_input.extend(record[0])\n",
    "#     print('place_no_inv_task_input: ', place_no_inv_task_input)\n",
    "    if place_no_inv_task_input:\n",
    "        return False\n",
    "    else:\n",
    "        return True"
   ]
  },
  {
   "cell_type": "code",
   "execution_count": 47,
   "metadata": {
    "id": "rKcphzVzhMWn"
   },
   "outputs": [],
   "source": [
    "# algoritma untuk menelusuri invisible (task) move\n",
    "\n",
    "# penelusuran hanya pada satu emptyInputPlace!\n",
    "# harus berusaha mencapai target,\n",
    "# jika gagal maka kirim pesan gagal dan iterasi pada main emptyInputPlace keseluruhan gagal shg hrs rollback\n",
    "def invisibleMoveRevisi(p_id, target, currentMarking):\n",
    "    # save the current marking\n",
    "#     currentMarking = getCurrentMarking(p_id)\n",
    "#     currentEdgeFrek = getCurrentEdgeFrek(p_id)\n",
    "#     currentEdgeProduced = getCurrentEdgeProduced(p_id)\n",
    "#     print('current marking === ', currentMarking)\n",
    "\n",
    "    # get shortest path, sort ASC, and with id\n",
    "    invisiblePaths = []\n",
    "    placesConcumed = []\n",
    "    placesProduced = []\n",
    "    for p_name in currentMarking: # jika ada 3 input place maka ada 3 iterasi\n",
    "        print('p_id: ', p_id)\n",
    "        print('p_name: ', p_name)\n",
    "        print('target: ', target)\n",
    "        invisiblePath = getShortestInvPath(p_id, p_name, target) # sementara: hanya diambil 1 yang terpendek\n",
    "        if invisiblePath is not None:\n",
    "            invisiblePaths.append(invisiblePath)\n",
    "\n",
    "    print('invisiblePaths= ', invisiblePaths, len(invisiblePaths))\n",
    "    if invisiblePaths is None:\n",
    "        print(\"<<<<<invisiblePath Is None>>>>>\")\n",
    "\n",
    "    # diurutkan\n",
    "    sorted_invisiblePaths = sorted(invisiblePaths, key = len)\n",
    "\n",
    "    # start with first id (shortest) to travel until target if possible, if no then go to 2nd id\n",
    "    for path in sorted_invisiblePaths:\n",
    "        print('path = ', path)\n",
    "        target = path[-1] # target place akhir\n",
    "        places = []\n",
    "        transitions = []\n",
    "        place_type = True\n",
    "        for i in range(len(path)): # buat list masing2 untuk places dan transitions\n",
    "            if place_type:\n",
    "                places.append(path[i])\n",
    "                place_type = False\n",
    "            else:\n",
    "                transitions.append(path[i])\n",
    "                place_type = True\n",
    "\n",
    "        for i in range(len(places)): # aktivasi setiap place step by step sampai habis\n",
    "            if places[i] == target:\n",
    "                print(\"====>>>>> target tercapai !!!!!! marking === \", getCurrentMarking(p_id))\n",
    "                print('placesConcumed: ',placesConcumed)\n",
    "                print('placesProduced:', placesProduced)\n",
    "\n",
    "                # Td do: Return harus memastikan semua input place sudah terisi token\n",
    "                # jadi harus semua iterasi pada sorted_invisiblePaths dilakukan\n",
    "                # versi ini begitu ada path yang mencapai target langsung selesai\n",
    "                # perlu diperbaiki agar menlanjutkan ke iterasi berikutnya untuk menjalankan invisible path input place yg lain\n",
    "                return [True, placesConcumed, placesProduced]  # target tercapai, selesai\n",
    "\n",
    "            trans = transitions.pop(0) # ambil transition berelasi dg place untuk diperiksa apakah bisa di enable\n",
    "            print('====> trans = ', trans)\n",
    "#             current_marking = getCurrentMarking(p_id)\n",
    "            if isEnabled(p_id, trans): # perlu diperiksa krn jk ada input place lain yg tdk ada token maka replay gagal\n",
    "                print(trans, ' ', 'Is Enabled !!!!!!!!!')\n",
    "\n",
    "                ips_ops  = invreplay(p_id, trans)  # ips_ops, utk replay tdk perlu info place nya krn semua input place dipakai\n",
    "                placesConcumed.append(ips_ops[0]) # catat utk dijalankan kalau memang target berhasil replay\n",
    "                placesProduced.append(ips_ops[1])\n",
    "            else: # jika gagal di enable maka berhenti disini, tunggu next path sampai habis\n",
    "                break\n",
    "\n",
    "\n",
    "    # JIka tidak mencapai return true maka rollback\n",
    "\n",
    "    # semua path selesai ditelusuri tetapi tidak ada yang berhasil mencapai target sehingga marking perlu di reset (fail to enable)\n",
    "#     setBactToCurrentMarking(p_id, currentMarking)\n",
    "#     setBactToCurrentEdgeFrek(p_id,currentEdgeFrek)\n",
    "#     setBactToCurrentEdgeProduced(p_id,currentEdgeProduced)\n",
    "    return [False] # return gagal sampai tujuan"
   ]
  },
  {
   "cell_type": "code",
   "execution_count": 48,
   "metadata": {
    "id": "gJkuSgb8hMWn"
   },
   "outputs": [],
   "source": [
    "# source didapat dari current marking\n",
    "def getShortestInvPath(p_id, source, target):\n",
    "    q_getShortestInvPath = '''\n",
    "        OPTIONAL match (source{p_id:$p_id, name:$source, type:'clone'}), (target{name:$target}),\n",
    "        p = allshortestpaths((source)-[*..20]->(target))\n",
    "        with p, nodes(p) as ns\n",
    "        WHERE ALL(node IN ns WHERE (exists(node.label) and node.label = 'Invisible'))\n",
    "        with p, [n in nodes(p) | n.name] AS ns\n",
    "        return  ns\n",
    "        limit 1\n",
    "        '''\n",
    "    results = session.run(q_getShortestInvPath, p_id=p_id, source=source, target=target)\n",
    "\n",
    "    shortestInvpaths = None\n",
    "    for record in results:\n",
    "        if record[0] is not None:\n",
    "            shortestInvpaths = record[0]\n",
    "    return shortestInvpaths # pasti urutannya place source-->transition-->place--> dst -->place target"
   ]
  },
  {
   "cell_type": "code",
   "execution_count": 49,
   "metadata": {
    "id": "99JD-ucnhMWn"
   },
   "outputs": [],
   "source": [
    "# Invisible Replay\n",
    "# pasti berhasil karena dipanggil setelah memeriksa status enable\n",
    "def invreplay(p_id, t ): # t is transition to replay\n",
    "    q_invreplay = '''\n",
    "        MATCH (ip:Place {p_id:$p_id, type:'clone'})-[r]->(t:Transition {name:$t})\n",
    "        SET ip.token = ip.token - 1, r.f = r.f + 1 // langsung update f\n",
    "        WITH ip, t\n",
    "        OPTIONAL MATCH (u)-[q]->(ip)\n",
    "        WHERE q.p > 0\n",
    "        SET q.f = q.f + 1, q.p = q.p -1 // update f\n",
    "\n",
    "        WITH distinct t, collect(ip.name) as ips\n",
    "        MATCH (t)-[r]->(op:Place)\n",
    "        SET op.token = op.token + 1, r.f = r.f + 1, r.p = r.p + 1 // update p\n",
    "        RETURN ips, collect(op.name) as ops\n",
    "        '''\n",
    "    results = session.run(q_invreplay, p_id=p_id, t=t)\n",
    "    ips_ops = []\n",
    "    for record in results:\n",
    "        for data in record:\n",
    "            ips_ops.append(data)\n",
    "    return ips_ops"
   ]
  },
  {
   "cell_type": "code",
   "execution_count": 50,
   "metadata": {
    "id": "SKnll2zxhMWn"
   },
   "outputs": [],
   "source": [
    "def setBactToCurrentMarking(p_id, currentMarkingNames):\n",
    "    q_setBactToCurrentMarking ='''\n",
    "        WITH $currentMarkingNames AS names\n",
    "        MATCH (p:Place {p_id : $p_id})\n",
    "        SET p.token = 0\n",
    "        WITH names\n",
    "        UNWIND names as name\n",
    "        MATCH (n:Place {p_id:$p_id}) WHERE n.name IN names\n",
    "        SET n.token = 1\n",
    "\n",
    "\n",
    "        //WITH [i in range(0, size(names)) | {name:names[i], value:1}] as pairs\n",
    "        //UNWIND pairs AS pair\n",
    "        //MATCH (n:Place {p_id:$p_id}) WHERE n.name = pair.name\n",
    "        //SET n.token = pair.value\n",
    "        //RETURN n\n",
    "     '''\n",
    "    results = session.run(q_setBactToCurrentMarking, p_id=p_id, currentMarkingNames=currentMarkingNames)\n",
    "\n",
    "# setBactToCurrentMarking(5, current_marking)\n",
    "\n",
    "def setBactToCurrentEdgeFrek(p_id, CurrentEdgeFrek):\n",
    "    q_setBactToCurrentMarking ='''\n",
    "        WITH $CurrentEdgeFrek AS names\n",
    "        MATCH ()-[e:Arc {p_id : $p_id, type:'clone'}]->()\n",
    "        SET e.f = 0\n",
    "        WITH names\n",
    "        UNWIND names as name\n",
    "        MATCH ()-[n:Arc {p_id:$p_id, type:'clone'}]->() WHERE n.name IN names\n",
    "        SET n.f = 1\n",
    "\n",
    "\n",
    "        //WITH [i in range(0, size(names)) | {name:names[i], value:1}] as pairs\n",
    "        //UNWIND pairs AS pair\n",
    "        //MATCH (n:Place {p_id:$p_id}) WHERE n.name = pair.name\n",
    "        //SET n.token = pair.value\n",
    "        //RETURN n\n",
    "     '''\n",
    "    results = session.run(q_setBactToCurrentMarking, p_id=p_id, CurrentEdgeFrek=CurrentEdgeFrek)\n",
    "\n",
    "# setBactToCurrentMarking(5, current_marking)\n",
    "\n",
    "def setBactToCurrentEdgeProduced(p_id, CurrentEdgeProduced):\n",
    "    q_setBactToCurrentMarking ='''\n",
    "        WITH $CurrentEdgeProduced AS names\n",
    "        MATCH ()-[e:Arc {p_id : $p_id, type:'clone'}]->()\n",
    "        SET e.p = 0\n",
    "        WITH names\n",
    "        UNWIND names as name\n",
    "        MATCH ()-[n:Arc {p_id:$p_id, type:'clone'}]->() WHERE n.name IN names\n",
    "        SET n.p = 1\n",
    "     '''\n",
    "    results = session.run(q_setBactToCurrentMarking, p_id=p_id, CurrentEdgeProduced=CurrentEdgeProduced)\n",
    "\n",
    "# setBactToCurrentMarking(5, current_marking)"
   ]
  },
  {
   "cell_type": "code",
   "execution_count": 51,
   "metadata": {
    "id": "HWhDTvthhMWn"
   },
   "outputs": [],
   "source": [
    "def updateConsumedPlaces(p_id, consumed_places):\n",
    "    consumed_places = list(itertools.chain(*consumed_places))\n",
    "    print(\"[[[[[consumed_places]]]]] = \", consumed_places)\n",
    "    q_updateConsumedPlaces = '''\n",
    "        WITH $consumed_places AS places\n",
    "        OPTIONAL MATCH (p:Place {p_id:$p_id})\n",
    "        WHERE p.name IN places\n",
    "        SET p.c = p.c + 1, p.fm = p.fm - 1//, p.token = p.token - 1\n",
    "    '''\n",
    "    session.run(q_updateConsumedPlaces, p_id=p_id, consumed_places=consumed_places)\n",
    "    return None\n",
    "\n",
    "\n",
    "def updateProducedPlaces(p_id, produced_places):\n",
    "    produced_places = list(itertools.chain(*produced_places))\n",
    "    print(\"[[[[[produced_places]]]]] = \", produced_places)\n",
    "    q_updateProducedPlacess = '''\n",
    "        WITH $produced_places AS places\n",
    "        OPTIONAL MATCH (p:Place {p_id:$p_id})\n",
    "        WHERE p.name IN places\n",
    "        SET p.p = p.p + 1, p.fm = p.fm + 1//, p.token = p.token + 1\n",
    "    '''\n",
    "    session.run(q_updateProducedPlacess, p_id=p_id, produced_places=produced_places)\n",
    "    return None\n",
    "\n",
    "def rollback(p_id, currentMarking, currentEdgeFrek, currentEdgeProduced):\n",
    "    setBactToCurrentMarking(p_id, currentMarking)\n",
    "    setBactToCurrentEdgeFrek(p_id,currentEdgeFrek)\n",
    "    setBactToCurrentEdgeProduced(p_id,currentEdgeProduced)\n",
    "    return None"
   ]
  },
  {
   "cell_type": "code",
   "execution_count": 52,
   "metadata": {
    "id": "AVn7KV4qhMWn"
   },
   "outputs": [],
   "source": [
    "# invisible path replay with simulation\n",
    "def checkInvisiblePathToFillToken(p_id, currentMarkingName, emptyInputPlacesName ):\n",
    "#     print(\"emptyInputPlaces: \", emptyInputPlacesName)\n",
    "    consumed_places = []\n",
    "    produced_places = []\n",
    "    currentEdgeFrek = getCurrentEdgeFrek(p_id) # penyimpanan sementara untuk rollback\n",
    "    currentEdgeProduced = getCurrentEdgeProduced(p_id) # penyimpanan sementara untuk rollback\n",
    "    progressMarking = currentMarkingName\n",
    "\n",
    "    # beberapa emptyInputPlaces\n",
    "    for Ptarget in emptyInputPlacesName:\n",
    "        result = invisibleMoveRevisi(p_id, Ptarget, progressMarking) # true jika berhasil sampai target, false jika gagal\n",
    "        if result[0]: # True atau False, True jika berhasil sampai target, stop iterasi, update nilai produce consume\n",
    "            # catat semua state pada place\n",
    "            consumed_places.extend(result[1])\n",
    "            produced_places.extend(result[2])\n",
    "            # tidak break karena perlu cek semua\n",
    "        else:\n",
    "            # jika result[0] = False, berarti ada emptyInputPlaces yg empty shg keseluruhan akan gagal meng-enable target\n",
    "            # maka token di rollback\n",
    "            rollback(p_id, currentMarkingName, currentEdgeFrek, currentEdgeProduced)\n",
    "            return False\n",
    "#             break\n",
    "\n",
    "        progressMarking = getCurrentMarking(p_id) # get updated current marking\n",
    "\n",
    "    # jika semua emptyInputPlaces berhasil dicapai maka state invisible move di update\n",
    "    print(\"PLACE DI UPDATE\")\n",
    "    updateConsumedPlaces(p_id, consumed_places) # semua\n",
    "    updateProducedPlaces(p_id, produced_places)\n",
    "    print(getCurrentMarking(p_id)) # print marking\n",
    "    return True # berhasil mencapai target\n"
   ]
  },
  {
   "cell_type": "code",
   "execution_count": 53,
   "metadata": {
    "id": "b0q2J7vPhMWo"
   },
   "outputs": [],
   "source": [
    "def invisiblePathIdentificationAndReplay(p_id, currentMarkingName, emptyInputPlacesName, states, places):\n",
    "#     currentMarkingName = getCurrentMarking(p_id)\n",
    "    print(currentMarkingName)\n",
    "    source_state = findStateName(states, currentMarkingName) # source_State = string of state name\n",
    "    print(source_state)\n",
    "\n",
    "    # kalau ada state yang mengandung semua place current marking\n",
    "    if source_state:\n",
    "        target_subState = emptyInputPlacesName # list of place name\n",
    "        print(target_subState)\n",
    "\n",
    "        # Algoritma penelusuran invisible path\n",
    "\n",
    "        # target_substate = list of place names --> all these names should be glue together as a state name\n",
    "        candidate_target_states = checkCandidatesTargetStates(states, target_subState)\n",
    "#         print('target adalah: ', candidate_target_states)\n",
    "        # invisible replay without simulation\n",
    "        spf_target_state, spf_trans = check_invisible_path(source_state, candidate_target_states) # algoritma inti\n",
    "\n",
    "#         print('spf_target: ', spf_target_state)\n",
    "#         print('spf_trans: ', spf_trans)\n",
    "\n",
    "        if spf_target_state: # kalau ada invisible path\n",
    "            targetMarking = extractTokenPlace(spf_target_state, places)\n",
    "            update_attributes(p_id, spf_trans)\n",
    "            return True\n",
    "        else :\n",
    "            return False\n",
    "\n",
    "    # kalau tidak ada, maka terpaksa telusuri satu persatu (tidak via reachability graph)\n",
    "    else:\n",
    "        # bisa 2 kondisi\n",
    "        # 1. jika invisible path berhasil mengisi semua missing token\n",
    "        # 2. invisible path gagal\n",
    "        result_status = checkInvisiblePathToFillToken(p_id, currentMarkingName, emptyInputPlacesName )\n",
    "        return result_status"
   ]
  },
  {
   "cell_type": "code",
   "execution_count": 54,
   "metadata": {
    "id": "Z2cYFnyQhMWo"
   },
   "outputs": [],
   "source": [
    "# catat semua nama states dari RG --> list\n",
    "def reachabilityGraphProperties(ts):\n",
    "    states = []\n",
    "    for state in ts.states:\n",
    "        states.append(state.name)\n",
    "    places = []\n",
    "    for place in net.places:\n",
    "        places.append(place.name)\n",
    "    return states, places\n",
    "states, places = reachabilityGraphProperties(ts)"
   ]
  },
  {
   "cell_type": "code",
   "execution_count": 55,
   "metadata": {
    "id": "aJ1xyvvGhMWo"
   },
   "outputs": [],
   "source": [
    "def findAllCandidateStateTargets(states, target_submarking):\n",
    "    target_names = target_submarking\n",
    "\n",
    "    candidate_target_states = []\n",
    "    for state in states: # periksa tiap state yang ada\n",
    "        for i in range(len(target_names)): # apakah semua nama target ada dalam satu state?\n",
    "            if target_names[i] not in state: # jika ada nama target yang tidak ada dalam state ini maka break\n",
    "                break\n",
    "            if i == len(target_names)-1: # kalau semua nama target place ada dalam state ini maka tambahkan state sbg kandidat\n",
    "                candidate_target_states.append(state)\n",
    "    return candidate_target_states"
   ]
  },
  {
   "cell_type": "code",
   "execution_count": 56,
   "metadata": {
    "id": "SN2j-X6LhMWo"
   },
   "outputs": [],
   "source": [
    "def findspf_fm_rg(source_state, target_state):\n",
    "    q_spf_fm_rg = '''\n",
    "        MATCH p = allshortestpaths((n {name:$source_state})-[:Transition *..100]->(m {name:$target_state}))\n",
    "        with p, relationships(p) as rs, [t in relationships(p) | t.name] AS t_names\n",
    "        RETURN length(p) as length, t_names\n",
    "        limit 1\n",
    "    '''\n",
    "    results = session.run(q_spf_fm_rg, source_state=source_state, target_state=target_state)\n",
    "\n",
    "    emptyInputPlaces = []\n",
    "    length = 0\n",
    "    t_names = []\n",
    "    for record in results:\n",
    "        length = record[0]\n",
    "        t_names = record[1]\n",
    "    return length, t_names\n"
   ]
  },
  {
   "cell_type": "code",
   "execution_count": 57,
   "metadata": {
    "id": "vLPfK_JMhMWo"
   },
   "outputs": [],
   "source": [
    "def findTheShortestPathOfCurrentMarkingToCandidateTarget(source_state, candidate_target_states):\n",
    "    spf_len = 1000\n",
    "    spf_state = ''\n",
    "    spf_trans = []\n",
    "    source_state = source_state\n",
    "\n",
    "    print(source_state, \" VS \", candidate_target_states)\n",
    "\n",
    "    for state in candidate_target_states:\n",
    "        l, t_names = findspf_fm_rg(source_state, state)\n",
    "        if l>0 and l < spf_len:\n",
    "            spf_len = l\n",
    "            spf_state = state # update state dengan jarak terpendek\n",
    "            spf_trans = t_names\n",
    "    return spf_state, spf_trans # state untuk update token, t_names untuk update p,c, dan frek"
   ]
  },
  {
   "cell_type": "code",
   "execution_count": 58,
   "metadata": {
    "id": "gBItQP2jhMWp"
   },
   "outputs": [],
   "source": [
    "# currentMarkingName adl list nama places di marking\n",
    "def replayWithInsertToken(p_id, activity):\n",
    "    inputPlaceNames = getAllInputPlaces(p_id, activity) # nama transition\n",
    "#     updateFM = 0\n",
    "\n",
    "    # yg penting deteksi ada atau tidak path ke target. kalau ada maka FM pindah, kalau tidak maka FM tetap\n",
    "#     finalMarkingUpdate = cekUpdateFinalMarking(p_id, finalMarkingName, inputPlaceNames)\n",
    "#     print('finalMarkingUpdate status:', finalMarkingUpdate)\n",
    "#     # jika tidak ditemukan path ke target, berarti posisi next activity adalah predesesor dari current marking. jadi memang\n",
    "#     # tidak perlu update final marking\n",
    "#     if finalMarkingUpdate:\n",
    "#         updateFM = 1\n",
    "\n",
    "    q_replay = '''\n",
    "        OPTIONAL MATCH (ip_mt: Place {p_id: $p_id})-->(e:Transition {label:$activity})\n",
    "        WHERE ip_mt.token = 0\n",
    "        SET ip_mt.token = ip_mt.token + 1 , ip_mt.m = ip_mt.m + 1\n",
    "        WITH collect(ip_mt.name) as ip_mt_names, count(ip_mt) as num_of_missing_token\n",
    "\n",
    "        MATCH (ip: Place {p_id: $p_id})-[r]->(t:Transition {label:$activity})\n",
    "        SET ip.token = ip.token - 1 , ip.c = ip.c + 1, r.c = r.c + 1, r.f = r.f + 1 // langsung update f\n",
    "\n",
    "        WITH distinct t AS t, ip_mt_names, num_of_missing_token, collect(ip) as ips\n",
    "        MATCH (t)-[r]->(op)\n",
    "        SET op.token = op.token + 1, op.p = op.p + 1 , r.p = r.p +1, r.f = r.f + 1 // update FM\n",
    "\n",
    "        RETURN ip_mt_names, num_of_missing_token, ips, t.label\n",
    "    '''\n",
    "    results = session.run(q_replay, activity=activity, p_id = p_id)\n",
    "\n",
    "    replayInfo = {}\n",
    "#     print('RETURN ip_mt, num_of_missing_token, ip, op, e')\n",
    "    for record in results:\n",
    "        replayInfo['ip_mt_names'] = record[0]\n",
    "        replayInfo['num_of_missing_token'] = record[1]\n",
    "        replayInfo['ip'] = record[2]\n",
    "        replayInfo['e'] = record[3]\n",
    "#     print('>> replay info dalam fungsi replayWithInsertToken', replayInfo)\n",
    "    return replayInfo"
   ]
  },
  {
   "cell_type": "code",
   "execution_count": 59,
   "metadata": {
    "id": "8r8VKRoKhMWp"
   },
   "outputs": [],
   "source": [
    "def replayAndMarkFM(p_id, activity):\n",
    "    q_replay = '''\n",
    "        MATCH (ip: Place {p_id: $p_id})-[r]->(t:Transition {label:$activity})\n",
    "        SET ip.token = ip.token - 1 , ip.c = ip.c + 1, ip.fm = 0, r.c = r.c + 1, r.f = r.f + 1 // langsung update f\n",
    "\n",
    "        WITH distinct t, collect(ip) as ips\n",
    "        MATCH (t:Transition {label:$activity})-[r]->(op {p_id: $p_id})\n",
    "        SET op.token = op.token + 1, op.p = op.p + 1 , op.fm = 1, r.p = r.p +1, r.f = r.f + 1 // update p dan f\n",
    "\n",
    "        RETURN ips, t.label\n",
    "    '''\n",
    "    results = session.run(q_replay, activity=activity, p_id = p_id)\n",
    "\n",
    "    replayInfo = {}\n",
    "#     print('RETURN ip_mt, num_of_missing_token, ip, op, e')\n",
    "    for record in results:\n",
    "        replayInfo['ip_mt'] = None\n",
    "        replayInfo['num_of_missing_token'] = 0\n",
    "        replayInfo['ip'] = record[0]\n",
    "#         replayInfo['fm'] = record[1]\n",
    "        replayInfo['e'] = record[1]\n",
    "#     print('>>>>> replay info dalamfungsi replayAndMarkingFM', replayInfo)\n",
    "\n",
    "    return replayInfo # record berisi nama input place dan jumlah token missing nya"
   ]
  },
  {
   "cell_type": "code",
   "execution_count": 60,
   "metadata": {
    "id": "r40b4-YfhMWp"
   },
   "outputs": [],
   "source": [
    "def cekRemainToken(p_id):\n",
    "    q_cekRemainToken = '''\n",
    "    MATCH (ip:Place {type:'clone', p_id: $p_id})\n",
    "    WHERE ip.token > 0\n",
    "    RETURN collect(ip.name) as name, collect(ip.token) as token\n",
    "    '''\n",
    "    results = session.run(q_cekRemainToken, p_id=p_id)\n",
    "\n",
    "\n",
    "    recap = {}\n",
    "    for record in results:\n",
    "        recap['name'] = record[0]\n",
    "        recap['token'] = record[1]\n",
    "    return recap"
   ]
  },
  {
   "cell_type": "code",
   "execution_count": 61,
   "metadata": {
    "id": "h38hKVeVhMWp",
    "outputId": "9cae44fb-2fe8-41e7-ac72-6f3e88eb49c8"
   },
   "outputs": [
    {
     "data": {
      "text/plain": [
       "{'name': [], 'token': []}"
      ]
     },
     "execution_count": 61,
     "metadata": {},
     "output_type": "execute_result"
    }
   ],
   "source": [
    "cekRemainToken('10')"
   ]
  },
  {
   "cell_type": "code",
   "execution_count": 62,
   "metadata": {
    "id": "ZbmpmKzNhMWq"
   },
   "outputs": [],
   "source": [
    "def findspf_rg(source_state, target_state):\n",
    "    q_spf_rg = '''\n",
    "        MATCH p = allshortestpaths((n {name:$source_state})-[:Transition *..100]->(m {name:$target_state}))\n",
    "        with p, relationships(p) as rs, [t in relationships(p) | t.name] AS t_names\n",
    "        WHERE ALL(t IN rs WHERE (t.label = 'Invisible'))\n",
    "        RETURN length(p) as length, t_names\n",
    "        limit 1\n",
    "    '''\n",
    "    results = session.run(q_spf_rg, source_state=source_state, target_state=target_state)\n",
    "\n",
    "    emptyInputPlaces = []\n",
    "    length = 0\n",
    "    t_names = []\n",
    "    for record in results:\n",
    "        length = record[0]\n",
    "        t_names = record[1]\n",
    "    return length, t_names"
   ]
  },
  {
   "cell_type": "code",
   "execution_count": 63,
   "metadata": {
    "id": "wZrnn6lkhMWq"
   },
   "outputs": [],
   "source": [
    "# MATCH (m:Movie {title:\"The Matrix\"}),(o:Person {name:\"Tom Hanks\"}),\n",
    "# p = shortestPath((m)-[*..15]-(o))\n",
    "# RETURN [x in nodes(p) | id(x)]"
   ]
  },
  {
   "cell_type": "code",
   "execution_count": 64,
   "metadata": {
    "id": "YtNWdzW3hMWq"
   },
   "outputs": [],
   "source": [
    "def writeVariable(p_id, activity, var_name, var_value):\n",
    "    q_writeVariable = '''\n",
    "    MATCH (a:Transition {p_id:$p_id, label:$activity})-->(v:Variable {type:'clone', name: $var_name})\n",
    "    SET v.team = $var_value\n",
    "    '''\n",
    "    results = session.run(q_writeVariable, p_id=p_id, activity=activity, var_name=var_name, var_value=var_value)"
   ]
  },
  {
   "cell_type": "code",
   "execution_count": 65,
   "metadata": {
    "id": "muWjr1vJhMWq"
   },
   "outputs": [],
   "source": [
    "# writeVariable('product_type','GPS team')"
   ]
  },
  {
   "cell_type": "code",
   "execution_count": 66,
   "metadata": {
    "id": "1TxW-l3mhMWr"
   },
   "outputs": [],
   "source": [
    "def readVariable(p_id, activity, var_name):\n",
    "    q_readVariable = '''\n",
    "    MATCH (a:Transition {p_id:$p_id, label:$activity})<--(v:Variable {type:'clone', name: $var_name})\n",
    "    RETURN v.team AS team\n",
    "    '''\n",
    "    results = session.run(q_readVariable, p_id=p_id, activity=activity, var_name=var_name)\n",
    "\n",
    "    recap = {}\n",
    "    for record in results:\n",
    "        return record[0]\n",
    "#         recap['team'] = record[0]\n",
    "#     return recap['team']"
   ]
  },
  {
   "cell_type": "code",
   "execution_count": 69,
   "metadata": {
    "id": "99IgcqAehMWr"
   },
   "outputs": [],
   "source": [
    "def checkStructural(activity, df_activity_entity):\n",
    "    return df_activity_entity.loc[activity]['orgStructure']"
   ]
  },
  {
   "cell_type": "code",
   "execution_count": 70,
   "metadata": {
    "id": "IBDnE5iehMWs",
    "outputId": "f6aa8942-62ca-434d-d4ce-40460d51cff2"
   },
   "outputs": [
    {
     "data": {
      "text/plain": [
       "'Clerk'"
      ]
     },
     "execution_count": 70,
     "metadata": {},
     "output_type": "execute_result"
    }
   ],
   "source": [
    "checkStructural('Check the warranty', df_activity_entity)"
   ]
  },
  {
   "cell_type": "code",
   "execution_count": 71,
   "metadata": {
    "id": "DlyTYA6HhMWs",
    "outputId": "18618cfa-9a59-425b-e93f-c7fdca4eb963"
   },
   "outputs": [
    {
     "data": {
      "text/plain": [
       "'Customer Service team'"
      ]
     },
     "execution_count": 71,
     "metadata": {},
     "output_type": "execute_result"
    }
   ],
   "source": [
    "df_activity_entity.loc['Check the warranty']['orgTeam']"
   ]
  },
  {
   "cell_type": "code",
   "execution_count": 72,
   "metadata": {
    "id": "NvIBinpohMWs"
   },
   "outputs": [],
   "source": [
    "# memeriksa nama team. Jika bernama 'variable' maka cek nama variable nya dari tabel activity_entity kmdn baca valuenya\n",
    "\n",
    "def checkTeam(p_id, activity, df_activity_entity):\n",
    "    var_name = ''\n",
    "    orgTeam =  df_activity_entity.loc[activity]['orgTeam']\n",
    "    if orgTeam == 'variable': # pasti baca\n",
    "        var_name = df_activity_entity.loc[activity]['orgTeamVariableName'] # get variable name --> GPS team, Mobile team\n",
    "        orgTeam = readVariable(p_id, activity, var_name) # read variable value in neo4j\n",
    "    return var_name , orgTeam"
   ]
  },
  {
   "cell_type": "code",
   "execution_count": 75,
   "metadata": {
    "id": "OI0sxYkjhMWs"
   },
   "outputs": [],
   "source": [
    "def checkTeamFunction(activity, var_name):\n",
    "    return df_activity_function.loc[activity, var_name]"
   ]
  },
  {
   "cell_type": "code",
   "execution_count": 76,
   "metadata": {
    "id": "SgQbFqd5hMWt"
   },
   "outputs": [],
   "source": [
    "# checkTeamFunction('Receive an item and repair request', 'product_type')"
   ]
  },
  {
   "cell_type": "code",
   "execution_count": 77,
   "metadata": {
    "id": "ArI59UdehMWt"
   },
   "outputs": [],
   "source": [
    "# get: activity, orgStructure, orgTeam, actor\n",
    "def scanTheComponentForPattern(p_id, activity, df_activity_entity):\n",
    "    orgStructure = checkStructural(activity, df_activity_entity) # example: engineer, clerk --> checkRoleName\n",
    "    var_name, orgTeam = checkTeam(p_id, activity, df_activity_entity) # 'product_type', 'GPS team' --> checkTeamName\n",
    "    return orgStructure, orgTeam"
   ]
  },
  {
   "cell_type": "code",
   "execution_count": 78,
   "metadata": {
    "id": "sFvdqJ8shMWt"
   },
   "outputs": [],
   "source": [
    "# scanTheComponentForPattern('Check the item', 'Mike', '')"
   ]
  },
  {
   "cell_type": "code",
   "execution_count": 79,
   "metadata": {
    "id": "FmQVAWT8hMWt"
   },
   "outputs": [],
   "source": [
    "def checkOrgStructurePattern(activity, orgStructure, actor):\n",
    "    q_checkOrgStructurePattern = '''\n",
    "    OPTIONAL MATCH (a:Transition {type:'master', label:$activity})-[:EXECUTED_BY]->(e:Entity {eName:$orgStructure})\n",
    "    WITH a,e\n",
    "    MATCH path = (a)-[:EXECUTED_BY]->(e)-[*]->(o:Resource {rName:$actor})\n",
    "    RETURN length(path) as length, path\n",
    "    '''\n",
    "    results = session.run(q_checkOrgStructurePattern, activity=activity, orgStructure=orgStructure, actor=actor)\n",
    "\n",
    "    length = 0\n",
    "    path = []\n",
    "    for record in results:\n",
    "        length = record[0]\n",
    "        path = record[1]\n",
    "    if length>0:\n",
    "        return True\n",
    "    else:\n",
    "        return False"
   ]
  },
  {
   "cell_type": "code",
   "execution_count": 80,
   "metadata": {
    "id": "TcvA7fI9hMWt",
    "outputId": "7a815d07-52e5-4898-b6c9-a02ad80f9589"
   },
   "outputs": [
    {
     "data": {
      "text/plain": [
       "True"
      ]
     },
     "execution_count": 80,
     "metadata": {},
     "output_type": "execute_result"
    }
   ],
   "source": [
    "checkOrgStructurePattern('Repair the item','Engineer', 'Pete')"
   ]
  },
  {
   "cell_type": "code",
   "execution_count": 81,
   "metadata": {
    "id": "rq-7DSAhhMWt"
   },
   "outputs": [],
   "source": [
    "def checkOrgTeamPattern(activity, orgTeam, actor):\n",
    "    q_checkOrgTeamPattern = '''\n",
    "    MATCH path = (a:Transition {type:'master', label:$activity})-[:EXECUTED_BY]->()-[*]->(o:Resource {rName:$actor})\n",
    "    WITH path, nodes(path) as ns\n",
    "    WHERE any(n in ns WHERE n.eName=$orgTeam)\n",
    "    RETURN length(path) as length, path\n",
    "    '''\n",
    "    results = session.run(q_checkOrgTeamPattern, activity=activity, orgTeam=orgTeam, actor=actor)\n",
    "\n",
    "    length = 0\n",
    "    path = []\n",
    "    for record in results:\n",
    "        length = record[0]\n",
    "        path = record[1]\n",
    "    if length>0:\n",
    "        return True\n",
    "    else:\n",
    "        return False"
   ]
  },
  {
   "cell_type": "code",
   "execution_count": 82,
   "metadata": {
    "id": "tfFjsIelhMWt",
    "outputId": "2598fcbc-d6ec-494f-9c57-57075eb25d7d"
   },
   "outputs": [
    {
     "data": {
      "text/plain": [
       "[['1', 'Receive an item and repair request', 'John', 'Mobile Phone team'],\n",
       " ['1', 'Notify the customer', 'Sue', nan],\n",
       " ['1', 'Check the item', 'Mike', nan],\n",
       " ['1', 'Repair the item', 'Pete', nan],\n",
       " ['1', 'Issue payment', 'Jane', nan],\n",
       " ['1', 'Return the item', 'Sue', nan],\n",
       " ['2', 'Receive an item and repair request', 'John', 'GPS team'],\n",
       " ['2', 'Check the warranty', 'John', nan],\n",
       " ['2', 'Check the item', 'Pete', nan],\n",
       " ['2', 'Notify the customer', 'Clare', nan],\n",
       " ['2', 'Send a cancellation letter', 'Clare', nan],\n",
       " ['2', 'Return the item', 'Clare', nan],\n",
       " ['3', 'Receive an item and repair request', 'John', 'Mobile Phone team'],\n",
       " ['3', 'Check the item', 'Mike', nan],\n",
       " ['3', 'Check the warranty', 'John', nan],\n",
       " ['3', 'Notify the customer', 'Sue', nan],\n",
       " ['3', 'Repair the item', 'Pete', nan],\n",
       " ['3', 'Issue payment', 'Jane', nan],\n",
       " ['3', 'Return the item', 'Sue', nan],\n",
       " ['4', 'Receive an item and repair request', 'John', 'GPS team'],\n",
       " ['4', 'Check the warranty', 'John', nan],\n",
       " ['4', 'Check the item', 'Jane', nan],\n",
       " ['4', 'Notify the customer', 'Clare', nan],\n",
       " ['4', 'Repair the item', 'Pete', nan],\n",
       " ['4', 'Send a cancellation letter', 'Clare', nan],\n",
       " ['4', 'Return the item', 'Clare', nan]]"
      ]
     },
     "execution_count": 82,
     "metadata": {},
     "output_type": "execute_result"
    }
   ],
   "source": [
    "event_streams"
   ]
  },
  {
   "cell_type": "code",
   "execution_count": 85,
   "metadata": {
    "id": "czliw0wOhMWu"
   },
   "outputs": [],
   "source": [
    "# Algoritma Utama Online Token Based Replay\n",
    "from datetime import datetime\n",
    "def tokenBasedReplay(event_streams):\n",
    "    ###############################\n",
    "    # Inisialisasi variabel global#\n",
    "    ###############################\n",
    "    start_case = {}\n",
    "    finish_case = {}\n",
    "    activities_coming = {}\n",
    "    activate_activities = {} # aktifitas yang sudah pernah diaktivasi\n",
    "    id_list = [] # list p_id yang sudah dibuat\n",
    "    anomaly_score = {}\n",
    "    unknownActivities = {}\n",
    "\n",
    "    # inisialisasi caselength utk mencatat panjang case yg masih perlu dikerjakan\n",
    "    caseLength = {}\n",
    "    for event in event_streams:\n",
    "        if event[0] in caseLength.keys():\n",
    "            caseLength[event[0]] = caseLength[event[0]] + 1  # id nya\n",
    "        else:\n",
    "            caseLength[event[0]] = 1\n",
    "#     print('caseLength: ',caseLength)\n",
    "\n",
    "\n",
    "#     # catat semua nama states dari RG --> list\n",
    "#     states = []\n",
    "#     for state in ts.states:\n",
    "#         states.append(state.name)\n",
    "# #     states\n",
    "#     places = []\n",
    "#     for place in net.places:\n",
    "#         places.append(place.name)\n",
    "# #     place\n",
    "\n",
    "    ####################################################\n",
    "    # Simulasi konsumsi event dari suatu event-streams #\n",
    "    ####################################################\n",
    "    start_gotbr= time.perf_counter()\n",
    "    print(\"GO-TBR \", f'Start at {datetime.now()}')\n",
    "    for event in event_streams:\n",
    "\n",
    "        #simulasi delay antar event\n",
    "#         time.sleep(random.random()*2)\n",
    "#         time.sleep(5)\n",
    "\n",
    "        p_id = event[0]\n",
    "        activity = event[1]\n",
    "        actor = event[2]\n",
    "        prodType_varValue = event[3]\n",
    "\n",
    "        caseLength[p_id] = caseLength[p_id] - 1 # sisa event makin sedikit\n",
    "#         print('>>>> activated stream: ', activity)\n",
    "\n",
    "        # inisialisasi variabel local pada case id baru\n",
    "        if p_id not in id_list: # jika id baru maka lakukan inisialisasi pembuatan model proses dsb\n",
    "            start_case[p_id]= time.perf_counter()\n",
    "            print(\"\\033[30m case id: \", p_id, \"Start\") #f'Start at {datetime.now()}')\n",
    "            id_list.append(p_id)\n",
    "            createCloneFromModelRef(p_id)\n",
    "            activities_coming[p_id] = [activity]\n",
    "            activate_activities[p_id] = []\n",
    "            unknownActivities[p_id] = []\n",
    "            anomaly_score[p_id] = 0\n",
    "        else:\n",
    "            activities_coming[p_id].append([activity, actor])\n",
    "\n",
    "        # Filter event yang tidak dikenali\n",
    "        if activity not in trans_name:\n",
    "            unknownActivities[p_id].append(activity)\n",
    "            print('Unknown transition: ', activity, ', From case id: ', p_id, )\n",
    "            continue\n",
    "\n",
    "        # Pada lingkungan online,\n",
    "        # Untuk menandai akhir dari case bisa ditetapkan berdasarkan posisi final marking,\n",
    "        # dan batas durasi sejak eksekusi case terakhir\n",
    "        # jika final marking blm tercapai maka dilakukan insert token atau invisible move jika bisa\n",
    "        # jika case diketahui telah berakhir maka dapat diberikan kebijakan misalnya dumping case tersebut dll\n",
    "        sink = False #\n",
    "        if sink == False : # belum sampai akhir case\n",
    "\n",
    "            currentMarkingName = getCurrentMarking(p_id)\n",
    "            finalMarkingName = getFinalMarking(p_id)\n",
    "            # 1. cek apakah ada missing token\n",
    "            emptyInputPlacesName = getAllEmptyInputPlaces(p_id, activity) # list of place name\n",
    "#             print('emptyInputPlacesName:', emptyInputPlacesName)\n",
    "\n",
    "            # jika ada missing token\n",
    "            if emptyInputPlacesName:\n",
    "                # 2. cek apakah ada invisible path\n",
    "                if allHasInvIncoming(p_id, emptyInputPlacesName):\n",
    "                    if invisiblePathIdentificationAndReplay(p_id, currentMarkingName, emptyInputPlacesName, states, places):\n",
    "#                         print('1 --> invisible path replay berhasil, lanjut dg replay normal')\n",
    "                        replay_info= replayAndMarkFM(p_id, activity) # invisible path berhasil mencapai target marking\n",
    "                    else: # invisible path gagal mencapai target marking\n",
    "#                         print('2 --> invisible path replay gagal')\n",
    "                        replay_info= replayWithInsertToken(p_id, activity)\n",
    "                else: # ada yang tdk terhubung dg invisible task, maka tidak akan ada invisible path\n",
    "#                     print('3 --> langsung insert missing token')\n",
    "#                     print(currentMarkingName)\n",
    "#                     print(act_stream)\n",
    "                    replay_info = replayWithInsertToken(p_id, activity)\n",
    "            # aman, bisa langsung replay\n",
    "            else: # tidak ada emptyInputPlace\n",
    "#                 print('4 --> semua input place terisi token')\n",
    "                replay_info = replayAndMarkFM(p_id, activity)\n",
    "#                 print(\"++++==> remained token = \", cekRemainToken('30'))\n",
    "\n",
    "            # realtime deviation detection and Warning\n",
    "            if replay_info['num_of_missing_token'] > 0:\n",
    "                activate_activities[p_id].append([activity, 'MISSING_TOKEN', len(emptyInputPlacesName)]) # replay_info['num_of_missing_token']])\n",
    "                anomaly_score[p_id] = anomaly_score[p_id] + 1.0\n",
    "                print(\"\\033[34m >>ALERT! [\", p_id,\"][Anomaly score: 1.0, accu scores:\", anomaly_score[p_id], \"] [\",replay_info['e'],\"]\",\"[Type: missing token]\", actor, \"\\033[30m\")\n",
    "                if anomaly_score[p_id] >= 1:\n",
    "                    print(\"\\033[91m >>>WARNING! AN INSPECTION NEEDED ON CASE ID:\", p_id, \"\\033[30m\")\n",
    "            else:\n",
    "                activate_activities[p_id].append([activity, activity, replay_info['num_of_missing_token']])\n",
    "\n",
    "#             print(\"Current Marking is: \", getCurrentMarking(p_id))\n",
    "\n",
    "#             if caseLength[p_id] == 0:\n",
    "#                 finish_case[p_id]= time.perf_counter()\n",
    "#                 print(\"case id: \", p_id, \"Finish\") #f'Finish at {datetime.now()}', f' in {round(finish_case[p_id]-start_case[p_id], 2)} second(s)')\n",
    "\n",
    "\n",
    "        # Jika diperlukan: Reporting begitu case dinyatakan selesai\n",
    "        else: # sink == true\n",
    "            consumeFinalMarking(p_id)\n",
    "            print(\"Case ID:\", p_id, \"IS FINISHED\")\n",
    "            recap = recapPerFinalCase(p_id)\n",
    "            c = recap['consumed']\n",
    "            p = recap['produced']\n",
    "            m = recap['missing']\n",
    "            m_name = recap['m_name']\n",
    "            r = recap['remained']\n",
    "            r_name = recap['r_name']\n",
    "            fm_name = recap['fm_name']\n",
    "            #t_enabled = recap['t_enabled']\n",
    "            print(\"Token Consumed = \", c)\n",
    "            print(\"Token Produced = \", p)\n",
    "            print(\"Token Missing = \", m, m_name)\n",
    "            print(\"Token Remain = \", r, r_name)\n",
    "            print(\"Enabled Transition(s) remain = \", recapEnabledTranLeft(p_id))\n",
    "            print(\"Fitness = \", ((0.5)*(1 - (m/c))) + ((0.5)*(1-(r/p))))\n",
    "            print(\"==============================================\")\n",
    "\n",
    "\n",
    "        # 1. jika aktifitas memiliki fungsi write maka lakukan update variable\n",
    "        teamF = checkTeamFunction(activity, 'product_type') # df_activity_function\n",
    "        if teamF == 'write':\n",
    "            status = writeVariable(p_id, activity,'product_type', prodType_varValue) # activity harus ada untuk memastikan bisa write pada model\n",
    "#             if status\n",
    "\n",
    "        # 2. periksa role statis (structure), dan role dinamis (team)\n",
    "        orgStructure, orgTeam = scanTheComponentForPattern(p_id, activity, df_activity_entity) # role dinamis adalah variable\n",
    "\n",
    "        # pattern\n",
    "        isStructureConform = checkOrgStructurePattern(activity, orgStructure, actor)# statis\n",
    "        isTeamConform = checkOrgTeamPattern(activity, orgTeam, actor) # dinamis\n",
    "        if isStructureConform and isTeamConform:\n",
    "            activate_activities[p_id][-1].extend(['normal_originator',actor])\n",
    "        else:\n",
    "#             print('orgStructure: ', orgStructure)\n",
    "#             print('isStructureConform: ',isStructureConform)\n",
    "            wrong_originator = []\n",
    "            if not isStructureConform:\n",
    "                wrong_originator.append('wrong_structure')\n",
    "                anomaly_score[p_id] = anomaly_score[p_id] + 0.8 # bisa jadi ini adalah work_around\n",
    "                print(\"\\033[34m >>ALERT! [\", p_id,\"][Anomaly score: 0.8, accu scores:\", anomaly_score[p_id], \"] [\", replay_info['e'],\"]\",\"[Type: wrong_structure]\", actor, \"\\033[30m\")\n",
    "                if anomaly_score[p_id] >= 1:\n",
    "                    print(\"\\033[91m >>>WARNING! AN INSPECTION NEEDED ON CASE ID:\", p_id, \"\\033[30m\")\n",
    "                #             print('isTeamConform: ', isTeamConform)\n",
    "            if not isTeamConform:\n",
    "                wrong_originator.append('wrong_team')\n",
    "                anomaly_score[p_id] = anomaly_score[p_id] + 0.5 # bisa jadi ini adalah work_around\n",
    "                print(\"\\033[34m >>ALERT! [\", p_id,\"][Anomaly score: 0.5, accu scores:\", anomaly_score[p_id],\"] [\", replay_info['e'],\"]\", \"[Type: wrong_team]\", actor, \"\\033[30m\")\n",
    "                if anomaly_score[p_id] >= 1:\n",
    "                    print(\"\\033[91m >>>WARNING! AN INSPECTION NEEDED ON CASE ID:\", p_id, \"\\033[30m\")\n",
    "            activate_activities[p_id][-1].extend([wrong_originator,actor])\n",
    "\n",
    "#             dumpFinishedProcess(p_id)\n",
    "\n",
    "    finish_gotbr= time.perf_counter()\n",
    "    print(\"GO-TBR \", f'Finish at {datetime.now()}', f' in {round(finish_gotbr-start_gotbr, 2)} second(s)')\n",
    "\n",
    "    return activate_activities, activities_coming, unknownActivities\n"
   ]
  },
  {
   "cell_type": "code",
   "execution_count": 86,
   "metadata": {
    "id": "pFWfkvQvhMWu"
   },
   "outputs": [],
   "source": [
    "df_ano = pd.read_csv('./data/datacsv_repair - anomali - v2.csv', sep=';')\n",
    "df_ano['timestamp'] = [start_time + timedelta(seconds=i*15 + random.randint(0, 15)) for i in range(len(df_ano))]\n",
    "df_anomali = pm4py.format_dataframe(df_ano, case_id='case_id', activity_key='activity', timestamp_key='timestamp')\n",
    "# event_log_anomali = pm4py.convert_to_event_log(df_anomali)\n",
    "df_anomali.index.name = 'index'\n",
    "df_anomali = df_anomali.sort_index(ascending=True)"
   ]
  },
  {
   "cell_type": "code",
   "execution_count": 87,
   "metadata": {
    "id": "SGHCeDByhMWu",
    "outputId": "26c8d893-57c4-4509-dc47-fd47a6a0ae9e"
   },
   "outputs": [
    {
     "name": "stdout",
     "output_type": "stream",
     "text": [
      "GO-TBR  Start at 2024-12-11 13:36:59.602393\n",
      "\u001b[30m case id:  1 Start\n",
      "\u001b[34m >>ALERT! [ 1 ][Anomaly score: 1.0, accu scores: 1.0 ] [ Notify the customer ] [Type: missing token] Sue \u001b[30m\n",
      "\u001b[91m >>>WARNING! AN INSPECTION NEEDED ON CASE ID: 1 \u001b[30m\n",
      "\u001b[30m case id:  2 Start\n",
      "\u001b[34m >>ALERT! [ 2 ][Anomaly score: 0.5, accu scores: 0.5 ] [ Check the item ] [Type: wrong_team] Pete \u001b[30m\n",
      "\u001b[30m case id:  3 Start\n",
      "\u001b[30m case id:  4 Start\n",
      "\u001b[34m >>ALERT! [ 4 ][Anomaly score: 0.8, accu scores: 0.8 ] [ Check the item ] [Type: wrong_structure] Jane \u001b[30m\n",
      "\u001b[34m >>ALERT! [ 4 ][Anomaly score: 0.5, accu scores: 1.3 ] [ Check the item ] [Type: wrong_team] Jane \u001b[30m\n",
      "\u001b[91m >>>WARNING! AN INSPECTION NEEDED ON CASE ID: 4 \u001b[30m\n",
      "\u001b[34m >>ALERT! [ 4 ][Anomaly score: 0.5, accu scores: 1.8 ] [ Repair the item ] [Type: wrong_team] Pete \u001b[30m\n",
      "\u001b[91m >>>WARNING! AN INSPECTION NEEDED ON CASE ID: 4 \u001b[30m\n",
      "\u001b[34m >>ALERT! [ 4 ][Anomaly score: 1.0, accu scores: 2.8 ] [ Send a cancellation letter ] [Type: missing token] Clare \u001b[30m\n",
      "\u001b[91m >>>WARNING! AN INSPECTION NEEDED ON CASE ID: 4 \u001b[30m\n",
      "GO-TBR  Finish at 2024-12-11 13:37:00.697645  in 1.1 second(s)\n",
      "Finish in 1.1 second(s)\n",
      "caseLength:  {}\n"
     ]
    }
   ],
   "source": [
    "# Main program\n",
    "\n",
    "import time\n",
    "# from memory_profiler import profile\n",
    "\n",
    "start_environtmen(net)\n",
    "generate_organizational_model()\n",
    "\n",
    "caseLength = {}\n",
    "event_streams = []\n",
    "aggregate_event_streams = []\n",
    "# case_id = '2'\n",
    "aggregate_event_streams = generateAllCase()\n",
    "case_length = len(event_streams)\n",
    "# aggregate_event_streams[4][2] = 'Pete'\n",
    "# aggregate_event_streams\n",
    "\n",
    "\n",
    "start= time.perf_counter()\n",
    "\n",
    "\n",
    "activate_activities, activities_coming, unknownActivities \\\n",
    "        = tokenBasedReplay(aggregate_event_streams)  # TODO: REACKTIVATE\n",
    "# tokenBasedReplay(aggregate_event_streams) # TODO: DELETE\n",
    "\n",
    "finish= time.perf_counter()\n",
    "print(f'Finish in {round(finish-start, 2)} second(s)')\n",
    "\n",
    "print('caseLength: ', caseLength)\n",
    "for caseId in caseLength:\n",
    "    print(\"activate_activities[\",caseId,\"]: \", activate_activities[case_id])\n",
    "\n",
    "\n"
   ]
  },
  {
   "cell_type": "code",
   "execution_count": 88,
   "metadata": {
    "id": "OwhvQt-KhMWv",
    "outputId": "3b8f5b85-1d9b-437d-cf70-8eb0b1c9087f"
   },
   "outputs": [
    {
     "name": "stdout",
     "output_type": "stream",
     "text": [
      "1 ['Notify the customer', 'MISSING_TOKEN', 2, 'normal_originator', 'Sue']\n",
      "2 ['Check the item', 'Check the item', 0, ['wrong_team'], 'Pete']\n",
      "4 ['Check the item', 'Check the item', 0, ['wrong_structure', 'wrong_team'], 'Jane']\n",
      "4 ['Repair the item', 'Repair the item', 0, ['wrong_team'], 'Pete']\n",
      "4 ['Send a cancellation letter', 'MISSING_TOKEN', 1, 'normal_originator', 'Clare']\n"
     ]
    }
   ],
   "source": [
    "for ids in activate_activities:\n",
    "    for event in activate_activities[ids]:\n",
    "        if event[1] == 'MISSING_TOKEN':\n",
    "            print(ids,event)\n",
    "        if event[3] != 'normal_originator':\n",
    "            print(ids,event)"
   ]
  },
  {
   "cell_type": "code",
   "execution_count": 89,
   "metadata": {
    "id": "P4x_-5XChMWv",
    "outputId": "d110ae4f-c9bd-4246-b134-0fbe42d718e0"
   },
   "outputs": [
    {
     "data": {
      "text/plain": [
       "[['1', 'Receive an item and repair request', 'John', 'Mobile Phone team'],\n",
       " ['1', 'Notify the customer', 'Sue', nan],\n",
       " ['1', 'Check the item', 'Mike', nan],\n",
       " ['1', 'Repair the item', 'Pete', nan],\n",
       " ['1', 'Issue payment', 'Jane', nan],\n",
       " ['1', 'Return the item', 'Sue', nan],\n",
       " ['2', 'Receive an item and repair request', 'John', 'GPS team'],\n",
       " ['2', 'Check the warranty', 'John', nan],\n",
       " ['2', 'Check the item', 'Pete', nan],\n",
       " ['2', 'Notify the customer', 'Clare', nan],\n",
       " ['2', 'Send a cancellation letter', 'Clare', nan],\n",
       " ['2', 'Return the item', 'Clare', nan],\n",
       " ['3', 'Receive an item and repair request', 'John', 'Mobile Phone team'],\n",
       " ['3', 'Check the item', 'Mike', nan],\n",
       " ['3', 'Check the warranty', 'John', nan],\n",
       " ['3', 'Notify the customer', 'Sue', nan],\n",
       " ['3', 'Repair the item', 'Pete', nan],\n",
       " ['3', 'Issue payment', 'Jane', nan],\n",
       " ['3', 'Return the item', 'Sue', nan],\n",
       " ['4', 'Receive an item and repair request', 'John', 'GPS team'],\n",
       " ['4', 'Check the warranty', 'John', nan],\n",
       " ['4', 'Check the item', 'Jane', nan],\n",
       " ['4', 'Notify the customer', 'Clare', nan],\n",
       " ['4', 'Repair the item', 'Pete', nan],\n",
       " ['4', 'Send a cancellation letter', 'Clare', nan],\n",
       " ['4', 'Return the item', 'Clare', nan]]"
      ]
     },
     "execution_count": 89,
     "metadata": {},
     "output_type": "execute_result"
    }
   ],
   "source": [
    "aggregate_event_streams"
   ]
  },
  {
   "cell_type": "code",
   "execution_count": 90,
   "metadata": {
    "id": "8Dn9edqxhMWv",
    "outputId": "ae58c112-dbfc-4ada-c36c-4b8cbf43364f"
   },
   "outputs": [
    {
     "name": "stdout",
     "output_type": "stream",
     "text": [
      "\u001b[91m test\n"
     ]
    }
   ],
   "source": [
    "print('\\033[91m test' )"
   ]
  },
  {
   "cell_type": "code",
   "execution_count": 91,
   "metadata": {
    "id": "6IB3sVvnhMWv",
    "outputId": "3809e0da-6b8a-4a30-8f5a-bed2ad80a196"
   },
   "outputs": [
    {
     "name": "stdout",
     "output_type": "stream",
     "text": [
      "\u001b[95m test\n"
     ]
    }
   ],
   "source": [
    "print('\\033[95m test')"
   ]
  },
  {
   "cell_type": "code",
   "execution_count": null,
   "metadata": {
    "id": "rzgt4DXBhMWv"
   },
   "outputs": [],
   "source": []
  }
 ],
 "metadata": {
  "colab": {
   "provenance": []
  },
  "kernelspec": {
   "display_name": "Python 3",
   "language": "python",
   "name": "python3"
  },
  "language_info": {
   "codemirror_mode": {
    "name": "ipython",
    "version": 3
   },
   "file_extension": ".py",
   "mimetype": "text/x-python",
   "name": "python",
   "nbconvert_exporter": "python",
   "pygments_lexer": "ipython3",
   "version": "3.10.11"
  }
 },
 "nbformat": 4,
 "nbformat_minor": 0
}
